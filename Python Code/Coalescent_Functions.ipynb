{
 "cells": [
  {
   "cell_type": "code",
   "execution_count": 2,
   "metadata": {
    "collapsed": true
   },
   "outputs": [],
   "source": [
    "import dendropy\n",
    "from dendropy import Tree\n",
    "import math\n",
    "from dendropy import Node\n",
    "import operator"
   ]
  },
  {
   "cell_type": "code",
   "execution_count": 3,
   "metadata": {
    "collapsed": true
   },
   "outputs": [],
   "source": [
    "#function that takes the product of multiple numbers, or returns 1 if the list is empty\n",
    "def prod(factors):\n",
    "    return reduce(operator.mul, factors, 1)"
   ]
  },
  {
   "cell_type": "code",
   "execution_count": 4,
   "metadata": {
    "collapsed": true
   },
   "outputs": [],
   "source": [
    "def zipped_sorted_intervals(tree):\n",
    "    zipped_dists = zip(tree.nodes(), tree.calc_node_root_distances(return_leaf_distances_only =False))\n",
    "   \n",
    "    #sort nodes by distance from root\n",
    "    sorted_zipped_dists = sorted(zipped_dists, key=lambda branches: branches[1])\n",
    "    \n",
    "    #take those distances and transform them into interval lengths\n",
    "    #sorted_nodes = list(zip(*sorted_zipped_dists)[0])\n",
    "    sorted_dists = [dist for (node, dist) in sorted_zipped_dists]\n",
    "    len_diff = [next_node - current_node for current_node, next_node in zip(sorted_dists[:-1], sorted_dists[1:])]\n",
    "\n",
    "    #get the number of lineages at all intervals in the tree\n",
    "    lineages = [tree.num_lineages_at(dist) for dist in sorted_dists]\n",
    "    lineages.pop(0)\n",
    "    #combine the node, interval length, and number of lineages  back together\n",
    "    zipped_intervals = zip([node[0] for node in sorted_zipped_dists[1:]], len_diff, lineages)\n",
    "\n",
    "    return list(reversed(zipped_intervals))"
   ]
  },
  {
   "cell_type": "code",
   "execution_count": 5,
   "metadata": {
    "collapsed": true
   },
   "outputs": [],
   "source": [
    "def conditioned_prob_lineage_coalescence(tree, popsize):\n",
    "    zip_intervals = zipped_sorted_intervals(tree)\n",
    "    #number of lineages in each interval\n",
    "    num_lineages = zip(*zip_intervals)[2]\n",
    "    \n",
    "    #probability of coalescence and no coalescence within each interval continuous time (not conditioned on place in tree)\n",
    "    prob_coalescence_in_interval = [1-math.exp(-(float(lineages)/popsize)*length) for (node, length, lineages) in zip_intervals]\n",
    "    prob_no_coalescence_in_interval = [1-pcoal for pcoal in prob_coalescence_in_interval]\n",
    "\n",
    "    coalintervals=[]\n",
    "    \n",
    "    #the probability of coalescence on one lineage in a specific interval conditioned by time (the probability of not coalescing in any of the previous intervals)\n",
    "    for (index, interval) in enumerate(prob_no_coalescence_in_interval):\n",
    "        coalintervals.append(prod(prob_no_coalescence_in_interval[:index])*prob_coalescence_in_interval[index]/num_lineages[index])#the number of lineages \n",
    "    return coalintervals"
   ]
  },
  {
   "cell_type": "code",
   "execution_count": 6,
   "metadata": {
    "collapsed": true
   },
   "outputs": [],
   "source": [
    "def lineages_in_each_interval(tree):  \n",
    "    #the nodes corresponding to the intervals in each interval\n",
    "    sorted_zipped_nodes = sorted(zip(tree.nodes(), tree.calc_node_root_distances(return_leaf_distances_only =False)), key=lambda branches: branches[1])\n",
    "\n",
    "    nodes_in_current_interval =[]\n",
    "    nodes_in_interval_set = []\n",
    "    \n",
    "    for (node, dist) in list(reversed(sorted_zipped_nodes)):\n",
    "        #add the new node to the current interval\n",
    "        nodes_in_current_interval.append(node)\n",
    "        \n",
    "        #find the children of the current node (it it has children)\n",
    "        children =set(node.child_nodes())\n",
    "        \n",
    "        #remove the children of a node when the node is added\n",
    "        nodes_in_current_interval = list(children.symmetric_difference(nodes_in_current_interval))\n",
    "       \n",
    "        #add the current interval to the set of intervals\n",
    "        nodes_in_interval_set.append(list(nodes_in_current_interval))\n",
    "       \n",
    "    return nodes_in_interval_set\n"
   ]
  },
  {
   "cell_type": "code",
   "execution_count": 7,
   "metadata": {
    "collapsed": true
   },
   "outputs": [],
   "source": [
    "def pcoal_along_edge(tree, popsize):\n",
    "    #probability of coalescing along a single edge conditioned on where that edge is in the tree\n",
    "    #dictionary with nodes/lineages as keys and probabilities as values -but the pcoal is actually for the edge preceding the node\n",
    "    edge_prob ={}\n",
    "    pcoal = conditioned_prob_lineage_coalescence(tree, popsize)\n",
    "    full_lin_set = lineages_in_each_interval(tree)\n",
    "\n",
    "    #go through each node in each interval and sum the probability of coalescing across the intervals where the lineage is present\n",
    "    for (index, interval) in enumerate(full_lin_set[:-1]):\n",
    "        for node in interval:\n",
    "            if node.edge not in edge_prob:\n",
    "                edge_prob[node.edge] = pcoal[index]\n",
    "\n",
    "            else:\n",
    "                edge_prob[node.edge] += pcoal[index]\n",
    "\n",
    "    return edge_prob"
   ]
  },
  {
   "cell_type": "code",
   "execution_count": 8,
   "metadata": {
    "collapsed": true
   },
   "outputs": [],
   "source": [
    "def calculate_cumulative_node_prob(tree, popsize):\n",
    "    prob_lineage = pcoal_along_edge(tree, popsize)\n",
    "    \n",
    "    #dictionary to store the cumulative probability of a new sample coalescing (value) under each node (key)\n",
    "    cumulative_node_prob ={}\n",
    "    \n",
    "    #look at each internal (non-tip) node\n",
    "    for node in list(set(tree.leaf_nodes()).symmetric_difference(tree.nodes())):\n",
    "        node_prob = 0\n",
    "        \n",
    "        #iterate through the nodes belonging to the subtree rooted at node\n",
    "        for subtree_node in node.preorder_iter():\n",
    "            \n",
    "            #look at each edge of the node and add its probability to the cumulative node prob\n",
    "            for edge in subtree_node.child_edge_iter():\n",
    "                node_prob += prob_lineage[edge]\n",
    "                \n",
    "        cumulative_node_prob[node] = node_prob\n",
    "    return cumulative_node_prob"
   ]
  },
  {
   "cell_type": "code",
   "execution_count": null,
   "metadata": {},
   "outputs": [],
   "source": [
    "tr = Tree.get(path=\"jittered-ebola.nex\", schema=\"nexus\")\n",
    "popsize = 1\n",
    "print zipped_sorted_intervals(tr), \"\\n\"\n",
    "print conditioned_prob_lineage_coalescence(tr, popsize), \"\\n\"\n",
    "print lineages_in_each_interval(tr), \"\\n\"\n",
    "print pcoal_along_edge(tr, popsize), \"\\n\"\n",
    "calculate_cumulative_node_prob(tr, popsize)"
   ]
  },
  {
   "cell_type": "code",
   "execution_count": 11,
   "metadata": {},
   "outputs": [
    {
     "name": "stdout",
     "output_type": "stream",
     "text": [
      "[(<Node object at 0x5d65e80L: 'None' (<Taxon 0x5d65c18L '1'>)>, 2.0, 1), (<Node object at 0x5d65ef0L: 'None' (<Taxon 0x5d65c50L '2'>)>, 2.0, 2), (<Node object at 0x5bbd0f0L: 'None' (<Taxon 0x5d65cc0L '4'>)>, 2.0, 3), (<Node object at 0x5bbd080L: 'None' (<Taxon 0x5d65c88L '3'>)>, 6.0, 4), (<Node object at 0x5d65fd0L: 'None' (None)>, 4.0, 3), (<Node object at 0x5d65dd8L: 'None' (None)>, 2.0, 2), (<Node object at 0x5bbd160L: 'None' (<Taxon 0x5d65cf8L '5'>)>, 4.0, 3), (<Node object at 0x5d65f60L: 'None' (None)>, 12.0, 2)] \n",
      "\n",
      "[0.03921056084767682, 0.036934501217582856, 0.03343085855020138, 0.07496890127664543, 0.034619789994953194, 0.014719102008165941, 0.02513912716852866, 0.05299621831507181] \n",
      "\n",
      "[[<Node object at 0x5d65e80L: 'None' (<Taxon 0x5d65c18L '1'>)>], [<Node object at 0x5d65e80L: 'None' (<Taxon 0x5d65c18L '1'>)>, <Node object at 0x5d65ef0L: 'None' (<Taxon 0x5d65c50L '2'>)>], [<Node object at 0x5d65e80L: 'None' (<Taxon 0x5d65c18L '1'>)>, <Node object at 0x5d65ef0L: 'None' (<Taxon 0x5d65c50L '2'>)>, <Node object at 0x5bbd0f0L: 'None' (<Taxon 0x5d65cc0L '4'>)>], [<Node object at 0x5d65e80L: 'None' (<Taxon 0x5d65c18L '1'>)>, <Node object at 0x5d65ef0L: 'None' (<Taxon 0x5d65c50L '2'>)>, <Node object at 0x5bbd080L: 'None' (<Taxon 0x5d65c88L '3'>)>, <Node object at 0x5bbd0f0L: 'None' (<Taxon 0x5d65cc0L '4'>)>], [<Node object at 0x5d65e80L: 'None' (<Taxon 0x5d65c18L '1'>)>, <Node object at 0x5d65ef0L: 'None' (<Taxon 0x5d65c50L '2'>)>, <Node object at 0x5d65fd0L: 'None' (None)>], [<Node object at 0x5d65dd8L: 'None' (None)>, <Node object at 0x5d65fd0L: 'None' (None)>], [<Node object at 0x5d65dd8L: 'None' (None)>, <Node object at 0x5d65fd0L: 'None' (None)>, <Node object at 0x5bbd160L: 'None' (<Taxon 0x5d65cf8L '5'>)>], [<Node object at 0x5d65dd8L: 'None' (None)>, <Node object at 0x5d65f60L: 'None' (None)>], [<Node object at 0x5d652b0L: 'None' (None)>]] \n",
      "\n",
      "{<dendropy.datamodel.treemodel.Edge object at 0x0000000005D65E48>: 0.09285444749176641, <dendropy.datamodel.treemodel.Edge object at 0x0000000005BBD198>: 0.02513912716852866, <dendropy.datamodel.treemodel.Edge object at 0x0000000005D65F28>: 0.17995405103938286, <dendropy.datamodel.treemodel.Edge object at 0x0000000005BBD048>: 0.0744780191716478, <dendropy.datamodel.treemodel.Edge object at 0x0000000005BBD0B8>: 0.07496890127664543, <dendropy.datamodel.treemodel.Edge object at 0x0000000005D65F98>: 0.05299621831507181, <dendropy.datamodel.treemodel.Edge object at 0x0000000005D65EB8>: 0.21916461188705966, <dendropy.datamodel.treemodel.Edge object at 0x0000000005BBD128>: 0.10839975982684681} \n",
      "\n"
     ]
    },
    {
     "data": {
      "text/plain": [
       "{<Node object at 0x5d652b0L: 'None' (None)>: 0.8279551361769494,\n",
       " <Node object at 0x5d65dd8L: 'None' (None)>: 0.3991186629264425,\n",
       " <Node object at 0x5d65f60L: 'None' (None)>: 0.2829858074436687,\n",
       " <Node object at 0x5d65fd0L: 'None' (None)>: 0.18336866110349226}"
      ]
     },
     "execution_count": 11,
     "metadata": {},
     "output_type": "execute_result"
    }
   ],
   "source": [
    "tr = Tree.get(path=\"toytree.nex\", schema=\"nexus\")\n",
    "popsize = 50\n",
    "print zipped_sorted_intervals(tr), \"\\n\"\n",
    "print conditioned_prob_lineage_coalescence(tr, popsize), \"\\n\"\n",
    "print lineages_in_each_interval(tr), \"\\n\"\n",
    "print pcoal_along_edge(tr, popsize), \"\\n\"\n",
    "calculate_cumulative_node_prob(tr, popsize)"
   ]
  },
  {
   "cell_type": "code",
   "execution_count": null,
   "metadata": {
    "collapsed": true
   },
   "outputs": [],
   "source": []
  }
 ],
 "metadata": {
  "kernelspec": {
   "display_name": "Python 2",
   "language": "python",
   "name": "python2"
  },
  "language_info": {
   "codemirror_mode": {
    "name": "ipython",
    "version": 2
   },
   "file_extension": ".py",
   "mimetype": "text/x-python",
   "name": "python",
   "nbconvert_exporter": "python",
   "pygments_lexer": "ipython2",
   "version": "2.7.13"
  }
 },
 "nbformat": 4,
 "nbformat_minor": 2
}
