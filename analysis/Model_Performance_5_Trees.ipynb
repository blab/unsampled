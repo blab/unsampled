{
 "cells": [
  {
   "cell_type": "markdown",
   "metadata": {},
   "source": [
    "# Sample Specific Model Performance - Cross-Entropy and Correlation"
   ]
  },
  {
   "cell_type": "code",
   "execution_count": 1,
   "metadata": {
    "collapsed": true
   },
   "outputs": [],
   "source": [
    "from unsampled import *\n",
    "import matplotlib as mpl\n",
    "import matplotlib.mlab as mlab\n",
    "import matplotlib.pyplot as plt\n",
    "import matplotlib.colors as colors\n",
    "\n",
    "from scipy.stats.stats import pearsonr\n",
    "import scipy.stats as stats"
   ]
  },
  {
   "cell_type": "markdown",
   "metadata": {},
   "source": [
    "### Load Trees"
   ]
  },
  {
   "cell_type": "code",
   "execution_count": 2,
   "metadata": {
    "collapsed": true
   },
   "outputs": [],
   "source": [
    "t1 = Tree.get(path=\"data/tree1.nex\", schema=\"nexus\")\n",
    "rd.seed(100) #for replicability\n",
    "pruned_dict_t1 = randomly_prune_tree(t1, .95)\n",
    "popsize = 1\n",
    "\n",
    "#matrix of observed and expected attachemt to each edge in the pruned tree for each dropped sample\n",
    "exp_t1 = theoretical_attachment_prob_matrix(pruned_dict_t1.get('full_tree'), pruned_dict_t1.get('pruned_tree'), pruned_dict_t1.get('root_reference'), \n",
    "                                   popsize, pruned_dict_t1.get('node_root_dist_full_tree'), pruned_dict_t1.get('dropped_samples'))\n",
    "obs_t1 = observed_attachment_prob_matrix(pruned_dict_t1.get('full_tree'), pruned_dict_t1.get('pruned_tree'), pruned_dict_t1.get('dropped_samples'))"
   ]
  },
  {
   "cell_type": "code",
   "execution_count": 3,
   "metadata": {
    "collapsed": true
   },
   "outputs": [],
   "source": [
    "t2 = Tree.get(path=\"data/tree2.nex\", schema=\"nexus\")\n",
    "rd.seed(100) #for replicability\n",
    "pruned_dict_t2 = randomly_prune_tree(t2, .95)\n",
    "popsize = 1\n",
    "\n",
    "#matrix of observed and expected attachemt to each edge in the pruned tree for each dropped sample\n",
    "exp_t2 = theoretical_attachment_prob_matrix(pruned_dict_t2.get('full_tree'), pruned_dict_t2.get('pruned_tree'), pruned_dict_t2.get('root_reference'), \n",
    "                                   popsize, pruned_dict_t2.get('node_root_dist_full_tree'), pruned_dict_t2.get('dropped_samples'))\n",
    "obs_t2 = observed_attachment_prob_matrix(pruned_dict_t2.get('full_tree'), pruned_dict_t2.get('pruned_tree'), pruned_dict_t2.get('dropped_samples'))"
   ]
  },
  {
   "cell_type": "code",
   "execution_count": 4,
   "metadata": {
    "collapsed": true
   },
   "outputs": [],
   "source": [
    "t3 = Tree.get(path=\"data/tree3.nex\", schema=\"nexus\")\n",
    "rd.seed(100) #for replicability\n",
    "pruned_dict_t3 = randomly_prune_tree(t3, .95)\n",
    "popsize = 1\n",
    "\n",
    "#matrix of observed and expected attachemt to each edge in the pruned tree for each dropped sample\n",
    "exp_t3 = theoretical_attachment_prob_matrix(pruned_dict_t3.get('full_tree'), pruned_dict_t3.get('pruned_tree'), pruned_dict_t3.get('root_reference'), \n",
    "                                   popsize, pruned_dict_t3.get('node_root_dist_full_tree'), pruned_dict_t3.get('dropped_samples'))\n",
    "obs_t3 = observed_attachment_prob_matrix(pruned_dict_t3.get('full_tree'), pruned_dict_t3.get('pruned_tree'), pruned_dict_t3.get('dropped_samples'))"
   ]
  },
  {
   "cell_type": "code",
   "execution_count": 5,
   "metadata": {
    "collapsed": true
   },
   "outputs": [],
   "source": [
    "t4 = Tree.get(path=\"data/tree4.nex\", schema=\"nexus\")\n",
    "rd.seed(100) #for replicability\n",
    "pruned_dict_t4 = randomly_prune_tree(t4, .95)\n",
    "popsize = 1\n",
    "\n",
    "#matrix of observed and expected attachemt to each edge in the pruned tree for each dropped sample\n",
    "exp_t4 = theoretical_attachment_prob_matrix(pruned_dict_t4.get('full_tree'), pruned_dict_t4.get('pruned_tree'), pruned_dict_t4.get('root_reference'), \n",
    "                                   popsize, pruned_dict_t4.get('node_root_dist_full_tree'), pruned_dict_t4.get('dropped_samples'))\n",
    "obs_t4 = observed_attachment_prob_matrix(pruned_dict_t4.get('full_tree'), pruned_dict_t4.get('pruned_tree'), pruned_dict_t4.get('dropped_samples'))"
   ]
  },
  {
   "cell_type": "code",
   "execution_count": 6,
   "metadata": {
    "collapsed": true
   },
   "outputs": [],
   "source": [
    "t5 = Tree.get(path=\"data/tree5.nex\", schema=\"nexus\")\n",
    "rd.seed(100) #for replicability\n",
    "pruned_dict_t5 = randomly_prune_tree(t5, .95)\n",
    "popsize = 1\n",
    "\n",
    "#matrix of observed and expected attachemt to each edge in the pruned tree for each dropped sample\n",
    "exp_t5 = theoretical_attachment_prob_matrix(pruned_dict_t5.get('full_tree'), pruned_dict_t5.get('pruned_tree'), pruned_dict_t5.get('root_reference'), \n",
    "                                   popsize, pruned_dict_t5.get('node_root_dist_full_tree'), pruned_dict_t5.get('dropped_samples'))\n",
    "obs_t5 = observed_attachment_prob_matrix(pruned_dict_t5.get('full_tree'), pruned_dict_t5.get('pruned_tree'), pruned_dict_t5.get('dropped_samples'))"
   ]
  },
  {
   "cell_type": "markdown",
   "metadata": {},
   "source": [
    "## Node Impurity: Categorical Cross-Entropy"
   ]
  },
  {
   "cell_type": "markdown",
   "metadata": {
    "collapsed": true
   },
   "source": [
    "Categorical cross entropy is used to measure classification error as compared to a null model. It can be defined as:\n",
    "$$H(p,q) = - \\sum_{i=0}^k p_i \\cdot log(q_i)$$\n",
    "where $p$ corresponds to the one hot encoding of our known, observed probability distribution (in our case each sample attaches at exactly one place and so the row will have 0s and one 1 at the index corresponding to the branch). $q$ is the expected distribution calculated across the $k$ categories.\n",
    "\n",
    "Entropy is minimized and we seek to outperform the null which was created by giving each possible edge an equal probability of attachment."
   ]
  },
  {
   "cell_type": "markdown",
   "metadata": {},
   "source": [
    "### Null 1: Model Created with Equal Probability of Attachment Across Each Branch"
   ]
  },
  {
   "cell_type": "code",
   "execution_count": 7,
   "metadata": {
    "collapsed": false
   },
   "outputs": [
    {
     "name": "stdout",
     "output_type": "stream",
     "text": [
      "null model entropy: 7755.4234294\n"
     ]
    }
   ],
   "source": [
    "#Cross-Entropy calculation (independent of the tree, only depends on the number of samples in the tree)\n",
    "null_entropy = -1*math.log(1.0/(obs_t1.shape[1]))*obs_t1.shape[0]\n",
    "print \"null model entropy:\", null_entropy"
   ]
  },
  {
   "cell_type": "markdown",
   "metadata": {},
   "source": [
    "### Null 2: Model Created with Equal Probability of Attachement Across All Areas"
   ]
  },
  {
   "cell_type": "markdown",
   "metadata": {},
   "source": [
    "#### Tree 1\n",
    "null model creation (depends on the tree branch lengths)"
   ]
  },
  {
   "cell_type": "code",
   "execution_count": 8,
   "metadata": {
    "collapsed": true
   },
   "outputs": [],
   "source": [
    "ttl = 0\n",
    "for nd in pruned_dict_t1.get('pruned_tree').nodes():\n",
    "    if nd.edge_length is not None:\n",
    "        ttl += nd.edge_length\n",
    "null_2_t1 = []\n",
    "for nd in pruned_dict_t1.get('pruned_tree').nodes():\n",
    "    if nd.edge_length is not None:\n",
    "        null_2_t1.append(nd.edge_length/ttl)\n",
    "    else:\n",
    "        null_2_t1.append(0.0)"
   ]
  },
  {
   "cell_type": "code",
   "execution_count": 9,
   "metadata": {
    "collapsed": false
   },
   "outputs": [
    {
     "name": "stdout",
     "output_type": "stream",
     "text": [
      "total entropy: 7618.83327942\n"
     ]
    }
   ],
   "source": [
    "null2_entropy_t1 = []\n",
    "\n",
    "for row_o in obs_t1:\n",
    "    p_mk = null_2_t1[list(row_o).index(1.0)]\n",
    "    ent =  math.log(p_mk)\n",
    "    null2_entropy_t1.append(-1*ent)\n",
    "print \"total entropy:\", sum(null2_entropy_t1)"
   ]
  },
  {
   "cell_type": "code",
   "execution_count": 10,
   "metadata": {
    "collapsed": false,
    "scrolled": true
   },
   "outputs": [
    {
     "name": "stdout",
     "output_type": "stream",
     "text": [
      "entropy of a single sample created under the null: 4.97962959439\n"
     ]
    }
   ],
   "source": [
    "single_sample_null2_entropy_t1 = np.mean(null2_entropy_t1)\n",
    "print \"entropy of a single sample created under the null:\",  single_sample_null2_entropy_t1"
   ]
  },
  {
   "cell_type": "markdown",
   "metadata": {},
   "source": [
    "#### Tree 2"
   ]
  },
  {
   "cell_type": "code",
   "execution_count": 11,
   "metadata": {
    "collapsed": true
   },
   "outputs": [],
   "source": [
    "ttl = 0\n",
    "for nd in pruned_dict_t2.get('pruned_tree').nodes():\n",
    "    if nd.edge_length is not None:\n",
    "        ttl += nd.edge_length\n",
    "null_2_t2 = []\n",
    "for nd in pruned_dict_t2.get('pruned_tree').nodes():\n",
    "    if nd.edge_length is not None:\n",
    "        null_2_t2.append(nd.edge_length/ttl)\n",
    "    else:\n",
    "        null_2_t2.append(0.0)"
   ]
  },
  {
   "cell_type": "code",
   "execution_count": 12,
   "metadata": {
    "collapsed": false
   },
   "outputs": [
    {
     "name": "stdout",
     "output_type": "stream",
     "text": [
      "total entropy: 7847.62769337\n"
     ]
    }
   ],
   "source": [
    "null2_entropy_t2 = []\n",
    "\n",
    "for row_o in obs_t2:\n",
    "    p_mk = null_2_t2[list(row_o).index(1.0)]\n",
    "    ent =  math.log(p_mk)\n",
    "    null2_entropy_t2.append(-1*ent)\n",
    "print \"total entropy:\", sum(null2_entropy_t2)"
   ]
  },
  {
   "cell_type": "code",
   "execution_count": 13,
   "metadata": {
    "collapsed": false
   },
   "outputs": [
    {
     "name": "stdout",
     "output_type": "stream",
     "text": [
      "entropy of a single sample created under the null: 5.12916842704\n"
     ]
    }
   ],
   "source": [
    "single_sample_null2_entropy_t2= np.mean(null2_entropy_t2)\n",
    "print \"entropy of a single sample created under the null:\",  single_sample_null2_entropy_t2"
   ]
  },
  {
   "cell_type": "markdown",
   "metadata": {},
   "source": [
    "#### Tree 3"
   ]
  },
  {
   "cell_type": "code",
   "execution_count": 14,
   "metadata": {
    "collapsed": true
   },
   "outputs": [],
   "source": [
    "ttl = 0\n",
    "for nd in pruned_dict_t3.get('pruned_tree').nodes():\n",
    "    if nd.edge_length is not None:\n",
    "        ttl += nd.edge_length\n",
    "null_2_t3 = []\n",
    "for nd in pruned_dict_t3.get('pruned_tree').nodes():\n",
    "    if nd.edge_length is not None:\n",
    "        null_2_t3.append(nd.edge_length/ttl)\n",
    "    else:\n",
    "        null_2_t3.append(0.0)"
   ]
  },
  {
   "cell_type": "code",
   "execution_count": 15,
   "metadata": {
    "collapsed": false
   },
   "outputs": [
    {
     "name": "stdout",
     "output_type": "stream",
     "text": [
      "total entropy: 7960.9507799\n"
     ]
    }
   ],
   "source": [
    "null2_entropy_t3 = []\n",
    "\n",
    "for row_o in obs_t3:\n",
    "    p_mk = null_2_t3[list(row_o).index(1.0)]\n",
    "    ent =  math.log(p_mk)\n",
    "    null2_entropy_t3.append(-1*ent)\n",
    "print \"total entropy:\", sum(null2_entropy_t3)"
   ]
  },
  {
   "cell_type": "code",
   "execution_count": 16,
   "metadata": {
    "collapsed": false
   },
   "outputs": [
    {
     "name": "stdout",
     "output_type": "stream",
     "text": [
      "entropy of a single sample created under the null: 5.20323580386\n"
     ]
    }
   ],
   "source": [
    "single_sample_null2_entropy_t3 = np.mean(null2_entropy_t3)\n",
    "print \"entropy of a single sample created under the null:\",  single_sample_null2_entropy_t3"
   ]
  },
  {
   "cell_type": "markdown",
   "metadata": {},
   "source": [
    "#### Tree 4"
   ]
  },
  {
   "cell_type": "code",
   "execution_count": 17,
   "metadata": {
    "collapsed": true
   },
   "outputs": [],
   "source": [
    "ttl = 0\n",
    "for nd in pruned_dict_t4.get('pruned_tree').nodes():\n",
    "    if nd.edge_length is not None:\n",
    "        ttl += nd.edge_length\n",
    "null_2_t4 = []\n",
    "for nd in pruned_dict_t4.get('pruned_tree').nodes():\n",
    "    if nd.edge_length is not None:\n",
    "        null_2_t4.append(nd.edge_length/ttl)\n",
    "    else:\n",
    "        null_2_t4.append(0.0)"
   ]
  },
  {
   "cell_type": "code",
   "execution_count": 18,
   "metadata": {
    "collapsed": false
   },
   "outputs": [
    {
     "name": "stdout",
     "output_type": "stream",
     "text": [
      "total entropy: 7292.83014729\n"
     ]
    }
   ],
   "source": [
    "null2_entropy_t4 = []\n",
    "\n",
    "for row_o in obs_t4:\n",
    "    p_mk = null_2_t4[list(row_o).index(1.0)]\n",
    "    ent =  math.log(p_mk)\n",
    "    null2_entropy_t4.append(-1*ent)\n",
    "print \"total entropy:\", sum(null2_entropy_t4)"
   ]
  },
  {
   "cell_type": "code",
   "execution_count": 19,
   "metadata": {
    "collapsed": false
   },
   "outputs": [
    {
     "name": "stdout",
     "output_type": "stream",
     "text": [
      "entropy of a single sample created under the null: 4.76655565183\n"
     ]
    }
   ],
   "source": [
    "single_sample_null2_entropy_t4 = np.mean(null2_entropy_t4)\n",
    "print \"entropy of a single sample created under the null:\",  single_sample_null2_entropy_t4"
   ]
  },
  {
   "cell_type": "markdown",
   "metadata": {},
   "source": [
    "#### Treee 5"
   ]
  },
  {
   "cell_type": "code",
   "execution_count": 20,
   "metadata": {
    "collapsed": true
   },
   "outputs": [],
   "source": [
    "ttl = 0\n",
    "for nd in pruned_dict_t5.get('pruned_tree').nodes():\n",
    "    if nd.edge_length is not None:\n",
    "        ttl += nd.edge_length\n",
    "null_2_t5 = []\n",
    "for nd in pruned_dict_t5.get('pruned_tree').nodes():\n",
    "    if nd.edge_length is not None:\n",
    "        null_2_t5.append(nd.edge_length/ttl)\n",
    "    else:\n",
    "        null_2_t5.append(0.0)"
   ]
  },
  {
   "cell_type": "code",
   "execution_count": 21,
   "metadata": {
    "collapsed": false
   },
   "outputs": [
    {
     "name": "stdout",
     "output_type": "stream",
     "text": [
      "total entropy: 7454.74909976\n"
     ]
    }
   ],
   "source": [
    "null2_entropy_t5 = []\n",
    "\n",
    "for row_o in obs_t5:\n",
    "    p_mk = null_2_t5[list(row_o).index(1.0)]\n",
    "    ent =  math.log(p_mk)\n",
    "    null2_entropy_t5.append(-1*ent)\n",
    "print \"total entropy:\", sum(null2_entropy_t5)"
   ]
  },
  {
   "cell_type": "code",
   "execution_count": 22,
   "metadata": {
    "collapsed": false
   },
   "outputs": [
    {
     "name": "stdout",
     "output_type": "stream",
     "text": [
      "entropy of a single sample created under the null: 4.87238503252\n"
     ]
    }
   ],
   "source": [
    "single_sample_null2_entropy_t5 = np.mean(null2_entropy_t5)\n",
    "print \"entropy of a single sample created under the null:\",  single_sample_null2_entropy_t5"
   ]
  },
  {
   "cell_type": "markdown",
   "metadata": {},
   "source": [
    "#### Example plot of correlation between expected and observed attachment to each branch for the null model #2 for tree 1"
   ]
  },
  {
   "cell_type": "code",
   "execution_count": 23,
   "metadata": {
    "collapsed": false,
    "scrolled": false
   },
   "outputs": [
    {
     "data": {
      "image/png": "[encoded data removed]",
      "text/plain": [
       "<matplotlib.figure.Figure at 0x4806780>"
      ]
     },
     "metadata": {},
     "output_type": "display_data"
    }
   ],
   "source": [
    "n2 = [prb*obs_t1.shape[0] for prb in null_2_t1]\n",
    "obs_sum_att = list(sum(obs_t1)) #column sums\n",
    "not_captured = 0\n",
    "def rand_jitter(arr):\n",
    "    stdev = .005*(max(arr)-min(arr))\n",
    "    return arr + np.random.randn(len(arr)) * stdev\n",
    "\n",
    "obs_sum_att_2 = rand_jitter(obs_sum_att)\n",
    "\n",
    "fig,ax = plt.subplots(figsize=(20,20),facecolor='w')\n",
    "for cur_exp, cur_obs, j_cur_obs in zip(n2, obs_sum_att, obs_sum_att_2):\n",
    "    c='#053061'\n",
    "    ax.scatter(j_cur_obs,cur_exp,s=30,facecolor=c,edgecolor=c, alpha = .7)\n",
    "\n",
    "ax.set_xlabel('Observed', fontsize = 20)\n",
    "ax.set_ylabel('Expected (2.5th-97.5th percentiles)', fontsize = 20)\n",
    "ax.set_ylim(-1, 60) \n",
    "ax.set_xlim(-1, 60) \n",
    "#fig.savefig('correlation-percentiles.png', bbox_inches = 'tight', transparent = True)\n",
    "plt.show()"
   ]
  },
  {
   "cell_type": "code",
   "execution_count": 24,
   "metadata": {
    "collapsed": false
   },
   "outputs": [
    {
     "data": {
      "text/plain": [
       "(0.27101554407608519, 0.00054966145672295124)"
      ]
     },
     "execution_count": 24,
     "metadata": {},
     "output_type": "execute_result"
    }
   ],
   "source": [
    "#correlation coeffient. Weak positive linear relationship\n",
    "pearsonr(n2, obs_sum_att)"
   ]
  },
  {
   "cell_type": "markdown",
   "metadata": {},
   "source": [
    "### Model Entropy"
   ]
  },
  {
   "cell_type": "markdown",
   "metadata": {},
   "source": [
    "#### Tree 1"
   ]
  },
  {
   "cell_type": "code",
   "execution_count": 25,
   "metadata": {
    "collapsed": false
   },
   "outputs": [
    {
     "name": "stdout",
     "output_type": "stream",
     "text": [
      "total entropy: 5231.07783374\n"
     ]
    }
   ],
   "source": [
    "total_entropy_t1 = []\n",
    "\n",
    "for row_o, row_e in zip(obs_t1, exp_t1):\n",
    "    p_mk = list(row_e)[list(row_o).index(1.0)]\n",
    "    ent =  math.log(p_mk)\n",
    "    total_entropy_t1.append(-1*ent)\n",
    "print \"total entropy:\", sum(total_entropy_t1)"
   ]
  },
  {
   "cell_type": "code",
   "execution_count": 26,
   "metadata": {
    "collapsed": false
   },
   "outputs": [
    {
     "name": "stdout",
     "output_type": "stream",
     "text": [
      "average sample entropy: 3.41900512009\n"
     ]
    }
   ],
   "source": [
    "average_entropy_t1 = np.mean(total_entropy_t1) #avg entropy\n",
    "print \"average sample entropy:\",  average_entropy_t1"
   ]
  },
  {
   "cell_type": "markdown",
   "metadata": {},
   "source": [
    "#### Tree 2"
   ]
  },
  {
   "cell_type": "code",
   "execution_count": 27,
   "metadata": {
    "collapsed": false
   },
   "outputs": [
    {
     "name": "stdout",
     "output_type": "stream",
     "text": [
      "total entropy: 6011.6983685\n"
     ]
    }
   ],
   "source": [
    "total_entropy_t2 = []\n",
    "\n",
    "for row_o, row_e in zip(obs_t2, exp_t2):\n",
    "    p_mk = list(row_e)[list(row_o).index(1.0)]\n",
    "    ent =  math.log(p_mk)\n",
    "    total_entropy_t2.append(-1*ent)\n",
    "print \"total entropy:\", sum(total_entropy_t2)"
   ]
  },
  {
   "cell_type": "code",
   "execution_count": 28,
   "metadata": {
    "collapsed": false
   },
   "outputs": [
    {
     "name": "stdout",
     "output_type": "stream",
     "text": [
      "average sample entropy: 3.92921461993\n"
     ]
    }
   ],
   "source": [
    "average_entropy_t2 = np.mean(total_entropy_t2) #avg entropy\n",
    "print \"average sample entropy:\",  average_entropy_t2"
   ]
  },
  {
   "cell_type": "markdown",
   "metadata": {},
   "source": [
    "#### Tree 3"
   ]
  },
  {
   "cell_type": "code",
   "execution_count": 29,
   "metadata": {
    "collapsed": false
   },
   "outputs": [
    {
     "name": "stdout",
     "output_type": "stream",
     "text": [
      "total entropy: 5836.05008808\n"
     ]
    }
   ],
   "source": [
    "total_entropy_t3 = []\n",
    "\n",
    "for row_o, row_e in zip(obs_t3, exp_t3):\n",
    "    p_mk = list(row_e)[list(row_o).index(1.0)]\n",
    "    ent =  math.log(p_mk)\n",
    "    total_entropy_t3.append(-1*ent)\n",
    "print \"total entropy:\", sum(total_entropy_t3)"
   ]
  },
  {
   "cell_type": "code",
   "execution_count": 30,
   "metadata": {
    "collapsed": false
   },
   "outputs": [
    {
     "name": "stdout",
     "output_type": "stream",
     "text": [
      "average sample entropy: 3.81441182228\n"
     ]
    }
   ],
   "source": [
    "average_entropy_t3 = np.mean(total_entropy_t3) #avg entropy\n",
    "print \"average sample entropy:\",  average_entropy_t3"
   ]
  },
  {
   "cell_type": "markdown",
   "metadata": {},
   "source": [
    "#### Tree 4"
   ]
  },
  {
   "cell_type": "code",
   "execution_count": 31,
   "metadata": {
    "collapsed": false
   },
   "outputs": [
    {
     "name": "stdout",
     "output_type": "stream",
     "text": [
      "total entropy: 4994.67069467\n"
     ]
    }
   ],
   "source": [
    "total_entropy_t4 = []\n",
    "\n",
    "for row_o, row_e in zip(obs_t4, exp_t4):\n",
    "    p_mk = list(row_e)[list(row_o).index(1.0)]\n",
    "    ent =  math.log(p_mk)\n",
    "    total_entropy_t4.append(-1*ent)\n",
    "print \"total entropy:\", sum(total_entropy_t4)"
   ]
  },
  {
   "cell_type": "code",
   "execution_count": 32,
   "metadata": {
    "collapsed": false
   },
   "outputs": [
    {
     "name": "stdout",
     "output_type": "stream",
     "text": [
      "average sample entropy: 3.26449065011\n"
     ]
    }
   ],
   "source": [
    "average_entropy_t4 = np.mean(total_entropy_t4) #avg entropy\n",
    "print \"average sample entropy:\",  average_entropy_t4"
   ]
  },
  {
   "cell_type": "markdown",
   "metadata": {},
   "source": [
    "#### Tree 5"
   ]
  },
  {
   "cell_type": "code",
   "execution_count": 33,
   "metadata": {
    "collapsed": false
   },
   "outputs": [
    {
     "name": "stdout",
     "output_type": "stream",
     "text": [
      "total entropy: 5855.03944269\n"
     ]
    }
   ],
   "source": [
    "total_entropy_t5 = []\n",
    "\n",
    "for row_o, row_e in zip(obs_t5, exp_t5):\n",
    "    p_mk = list(row_e)[list(row_o).index(1.0)]\n",
    "    ent =  math.log(p_mk)\n",
    "    total_entropy_t5.append(-1*ent)\n",
    "print \"total entropy:\", sum(total_entropy_t5)"
   ]
  },
  {
   "cell_type": "code",
   "execution_count": 34,
   "metadata": {
    "collapsed": false,
    "scrolled": true
   },
   "outputs": [
    {
     "name": "stdout",
     "output_type": "stream",
     "text": [
      "average sample entropy: 3.82682316516\n"
     ]
    }
   ],
   "source": [
    "average_entropy_t5 = np.mean(total_entropy_t5) #avg entropy\n",
    "print \"average sample entropy:\",  average_entropy_t5"
   ]
  },
  {
   "cell_type": "markdown",
   "metadata": {},
   "source": [
    "### Overall Correlation Coefficients"
   ]
  },
  {
   "cell_type": "code",
   "execution_count": 35,
   "metadata": {
    "collapsed": false
   },
   "outputs": [
    {
     "name": "stdout",
     "output_type": "stream",
     "text": [
      " Correlation coefficient: 0.627288988774 test of significance finds p =  9.00356412626e-19\n"
     ]
    }
   ],
   "source": [
    "exp_sum_att_t1 = list(sum(exp_t1)) #column sums\n",
    "obs_sum_att_t1 = list(sum(obs_t1)) #column sums\n",
    "print \" Correlation coefficient:\", pearsonr(exp_sum_att_t1, obs_sum_att_t1)[0], \"test of significance finds p = \", pearsonr(exp_sum_att_t1, obs_sum_att_t1)[-1]"
   ]
  },
  {
   "cell_type": "code",
   "execution_count": 36,
   "metadata": {
    "collapsed": false
   },
   "outputs": [
    {
     "name": "stdout",
     "output_type": "stream",
     "text": [
      " Correlation coefficient: 0.650063307958 test of significance finds p =  1.83509578992e-20\n"
     ]
    }
   ],
   "source": [
    "exp_sum_att_t2 = list(sum(exp_t2)) #column sums\n",
    "obs_sum_att_t2 = list(sum(obs_t2)) #column sums\n",
    "print \" Correlation coefficient:\", pearsonr(exp_sum_att_t2, obs_sum_att_t2)[0], \"test of significance finds p = \", pearsonr(exp_sum_att_t2, obs_sum_att_t2)[-1]"
   ]
  },
  {
   "cell_type": "code",
   "execution_count": 37,
   "metadata": {
    "collapsed": false
   },
   "outputs": [
    {
     "name": "stdout",
     "output_type": "stream",
     "text": [
      " Correlation coefficient: 0.666703738766 test of significance finds p =  8.5919309469e-22\n"
     ]
    }
   ],
   "source": [
    "exp_sum_att_t3 = list(sum(exp_t3)) #column sums\n",
    "obs_sum_att_t3 = list(sum(obs_t3)) #column sums\n",
    "print \" Correlation coefficient:\", pearsonr(exp_sum_att_t3, obs_sum_att_t3)[0], \"test of significance finds p = \", pearsonr(exp_sum_att_t3, obs_sum_att_t3)[-1]"
   ]
  },
  {
   "cell_type": "code",
   "execution_count": 38,
   "metadata": {
    "collapsed": false
   },
   "outputs": [
    {
     "name": "stdout",
     "output_type": "stream",
     "text": [
      " Correlation coefficient: 0.796710289324 test of significance finds p =  3.6645979325e-36\n"
     ]
    }
   ],
   "source": [
    "exp_sum_att_t4 = list(sum(exp_t4)) #column sums\n",
    "obs_sum_att_t4 = list(sum(obs_t4)) #column sums\n",
    "print \" Correlation coefficient:\", pearsonr(exp_sum_att_t4, obs_sum_att_t4)[0], \"test of significance finds p = \", pearsonr(exp_sum_att_t4, obs_sum_att_t4)[-1]"
   ]
  },
  {
   "cell_type": "code",
   "execution_count": 39,
   "metadata": {
    "collapsed": false
   },
   "outputs": [
    {
     "name": "stdout",
     "output_type": "stream",
     "text": [
      " Correlation coefficient: 0.702292646134 test of significance finds p =  6.06295733891e-25\n"
     ]
    }
   ],
   "source": [
    "exp_sum_att_t5 = list(sum(exp_t5)) #column sums\n",
    "obs_sum_att_t5 = list(sum(obs_t5)) #column sums\n",
    "print \" Correlation coefficient:\", pearsonr(exp_sum_att_t5, obs_sum_att_t5)[0], \"test of significance finds p = \", pearsonr(exp_sum_att_t5, obs_sum_att_t5)[-1]"
   ]
  },
  {
   "cell_type": "markdown",
   "metadata": {},
   "source": [
    "### Variance of Expected Data Distribution - Tree 1"
   ]
  },
  {
   "cell_type": "markdown",
   "metadata": {},
   "source": [
    "Resampling: for each run, resample $n$ = number of dropped samples, the value generated represents the index of attachment where each $n_i$ is sampled from the discrete distribution of its respective expectation calculated under the coalescent. The result of each run is a list with length equal to the number of possible edges to attach to and each value within the list corresponding to the summed total number of samples that series of random draws predicts "
   ]
  },
  {
   "cell_type": "code",
   "execution_count": 40,
   "metadata": {
    "collapsed": true
   },
   "outputs": [],
   "source": [
    "num_runs = 100\n",
    "edg = len(pruned_dict_t1.get('pruned_tree').edges())\n",
    "full_counts = np.zeros((num_runs, edg))\n",
    "rd.seed(10)\n",
    "\n",
    "for run in range(num_runs):\n",
    "    for row in exp_t1:\n",
    "        distr = stats.rv_discrete(values = (range(len(row)), list(row)))\n",
    "        rv = distr.rvs(size=1)\n",
    "        full_counts[run][int(rv)] += 1"
   ]
  },
  {
   "cell_type": "markdown",
   "metadata": {},
   "source": [
    "For each edge, calculates the middle 95 percentiles (2.5th - 97.5th percentile)"
   ]
  },
  {
   "cell_type": "code",
   "execution_count": 41,
   "metadata": {
    "collapsed": true
   },
   "outputs": [],
   "source": [
    "#grab the middle 95 percentiles of data for each branch\n",
    "pct_025 = np.percentile(full_counts, 2.5, axis = 0)\n",
    "pct_975 = np.percentile(full_counts, 97.5, axis=0)"
   ]
  },
  {
   "cell_type": "markdown",
   "metadata": {},
   "source": [
    "### Observed versus Expected Sum Attachments"
   ]
  },
  {
   "cell_type": "code",
   "execution_count": 42,
   "metadata": {
    "collapsed": false
   },
   "outputs": [
    {
     "data": {
      "image/png": "[encoded data removed]",
      "text/plain": [
       "<matplotlib.figure.Figure at 0x4806c50>"
      ]
     },
     "metadata": {},
     "output_type": "display_data"
    }
   ],
   "source": [
    "#the summed number of dropped observations expected to fall on each edge (with 2.5th and 97.5th percentiles)\n",
    "#plotted against that actual observed number of dropped samples attached to each branch\n",
    "exp_sum_att = list(sum(exp_t1)) #column sums\n",
    "obs_sum_att = list(sum(obs_t1)) #column sums\n",
    "not_captured = 0\n",
    "def rand_jitter(arr):\n",
    "    stdev = .005*(max(arr)-min(arr))\n",
    "    return arr + np.random.randn(len(arr)) * stdev\n",
    "\n",
    "obs_sum_att_2 = rand_jitter(obs_sum_att)\n",
    "\n",
    "fig,ax = plt.subplots(figsize=(20,20),facecolor='w')\n",
    "for cur_exp, cur_obs, j_cur_obs, lb, ub in zip(exp_sum_att, obs_sum_att, obs_sum_att_2, pct_025, pct_975):\n",
    "    c= '#053061'\n",
    "    ax.scatter(j_cur_obs,cur_exp,s=30,facecolor=c,edgecolor=c, alpha = .7)\n",
    "    ax.plot([j_cur_obs,j_cur_obs],[lb, ub],lw=1, color=c,ls='-', alpha = .3) \n",
    "\n",
    "ax.set_xlabel('Observed', fontsize = 20)\n",
    "ax.set_ylabel('Expected (2.5th-97.5th percentiles)', fontsize = 20)\n",
    "ax.set_ylim(-1, 60) \n",
    "ax.set_xlim(-1, 60) \n",
    "#fig.savefig('correlation-percentiles.png', bbox_inches = 'tight', transparent = True)\n",
    "plt.show()"
   ]
  },
  {
   "cell_type": "markdown",
   "metadata": {},
   "source": [
    "The line for where the observed = expected number of attachments to a branch is added and all branches where the percentile range from 2.5th to 97.5th covers this line is colored blue. Intervals that do not cover the line are colored red."
   ]
  },
  {
   "cell_type": "code",
   "execution_count": 43,
   "metadata": {
    "collapsed": false
   },
   "outputs": [
    {
     "data": {
      "image/png": "[encoded data removed]",
      "text/plain": [
       "<matplotlib.figure.Figure at 0x11597a58>"
      ]
     },
     "metadata": {},
     "output_type": "display_data"
    }
   ],
   "source": [
    "#the summed number of dropped observations expected to fall on each edge (with 2.5th and 97.5th percentiles)\n",
    "#plotted against that actual observed number of dropped samples attached to each branch\n",
    "exp_sum_att = list(sum(exp_t1)) #column sums\n",
    "obs_sum_att = list(sum(obs_t1)) #column sums\n",
    "not_captured = 0\n",
    "def rand_jitter(arr):\n",
    "    stdev = .005*(max(arr)-min(arr))\n",
    "    return arr + np.random.randn(len(arr)) * stdev\n",
    "\n",
    "obs_sum_att_2 = rand_jitter(obs_sum_att)\n",
    "\n",
    "fig,ax = plt.subplots(figsize=(20,20),facecolor='w')\n",
    "for cur_exp, cur_obs, j_cur_obs, lb, ub in zip(exp_sum_att, obs_sum_att, obs_sum_att_2, pct_025, pct_975):\n",
    "    if cur_obs >= lb and cur_obs <= ub:\n",
    "        c = '#053061'\n",
    "        orde = 20\n",
    "    else:\n",
    "        not_captured += 1\n",
    "        c= '#67001f'\n",
    "        orde = 10\n",
    "    ax.scatter(j_cur_obs,cur_exp,s=30,facecolor=c,edgecolor=c, alpha = .7, zorder = orde)\n",
    "    ax.plot([j_cur_obs,j_cur_obs],[lb, ub],lw=1, color=c,ls='-', alpha = .3, zorder = orde) \n",
    "    \n",
    "ax.plot([0,60],[0,60],lw=1, color='k')\n",
    "\n",
    "ax.set_xlabel('Observed', fontsize = 20)\n",
    "ax.set_ylabel('Expected (2.5th-97.5th percentiles)', fontsize = 20)\n",
    "ax.set_ylim(-1, 60) \n",
    "ax.set_xlim(-1, 60) \n",
    "plt.show()"
   ]
  },
  {
   "cell_type": "code",
   "execution_count": 44,
   "metadata": {
    "collapsed": false
   },
   "outputs": [
    {
     "data": {
      "text/plain": [
       "0.6226415094339622"
      ]
     },
     "execution_count": 44,
     "metadata": {},
     "output_type": "execute_result"
    }
   ],
   "source": [
    "#percent of samples where the sample's interval does not capture the correct obcerved number of attachments\n",
    "1-not_captured/float(edg)"
   ]
  },
  {
   "cell_type": "markdown",
   "metadata": {},
   "source": [
    "## Entropies Across Multiple Levels of Sampling"
   ]
  },
  {
   "cell_type": "code",
   "execution_count": 46,
   "metadata": {
    "collapsed": true
   },
   "outputs": [],
   "source": [
    "#for tree 1\n",
    "samp_props = [.99, .98, .97, .96, .95, .9, .8, .7, .6, .5, .4, .3, .2, .1] #proportion of the samples within a tree to drop\n",
    "popsize = 1\n",
    "runs_at_each_level = 10"
   ]
  },
  {
   "cell_type": "code",
   "execution_count": null,
   "metadata": {
    "collapsed": false
   },
   "outputs": [],
   "source": [
    "#model entropies are hand copied below as a list\n",
    "rd.seed(100) #for replicability\n",
    "#model_entropies = []\n",
    "null1_entropies = []\n",
    "null2_entropies = []\n",
    "\n",
    "for prop in samp_props:\n",
    "    #average_prop_entropies = []\n",
    "    average_prop_null1 = []\n",
    "    average_prop_null2 = []\n",
    "    \n",
    "    for run in range(runs_at_each_level):\n",
    "        pruned_dict = randomly_prune_tree(t1, prop)\n",
    "        #exp = theoretical_attachment_prob_matrix(pruned_dict.get('full_tree'), pruned_dict.get('pruned_tree'), pruned_dict.get('root_reference'), \n",
    "        #                                   popsize, pruned_dict.get('node_root_dist_full_tree'), pruned_dict.get('dropped_samples'))\n",
    "        obs = observed_attachment_prob_matrix(pruned_dict.get('full_tree'), pruned_dict.get('pruned_tree'), pruned_dict.get('dropped_samples'))\n",
    "        \n",
    "        #total branch lengths in the tree for null2\n",
    "        ttl = 0\n",
    "        for nd in pruned_dict.get('pruned_tree').nodes():\n",
    "            if nd.edge_length is not None:\n",
    "                ttl += nd.edge_length\n",
    "        null_2 = []\n",
    "        for nd in pruned_dict.get('pruned_tree').nodes():\n",
    "            if nd.edge_length is not None:\n",
    "                null_2.append(nd.edge_length/ttl)\n",
    "            else:\n",
    "                null_2.append(0.0)\n",
    "                \n",
    "        \n",
    "        #model entropy\n",
    "        #total_run_model_entropy = [-1*math.log(list(row_e)[list(row_o).index(1.0)]) for row_o, row_e in zip(obs, exp)] #list of model entropies\n",
    "        #avg_run_entropy = np.mean(total_run_model_entropy)\n",
    "        #average_prop_entropies.append(avg_run_entropy)\n",
    "        \n",
    "        #null 1 entropy\n",
    "        avg_run_null1 = -1*math.log(1.0/(obs.shape[1]))\n",
    "        average_prop_null1.append(avg_run_null1)\n",
    "        \n",
    "        total_run_null2_entropy = [-1*math.log(null_2[list(row_o).index(1.0)]) for row_o in obs]\n",
    "        avg_run_null2 = np.mean(total_run_null2_entropy)\n",
    "        average_prop_null2.append(avg_run_null2)\n",
    "        \n",
    "    #model_entropies.append(average_prop_entropies)\n",
    "    null1_entropies.append(average_prop_null1)\n",
    "    null2_entropies.append(average_prop_null2)\n",
    "\n",
    "        "
   ]
  },
  {
   "cell_type": "code",
   "execution_count": null,
   "metadata": {
    "collapsed": true
   },
   "outputs": [],
   "source": [
    "model_entropies = [[2.2837941849908163,\n",
    "  2.2495892919080331,\n",
    "  2.3284547951903547,\n",
    "  2.1808201665273019,\n",
    "  2.4931885302835028,\n",
    "  2.3833851386978671,\n",
    "  2.3358371282450006,\n",
    "  2.3592071423211887,\n",
    "  2.5217013492433602,\n",
    "  2.3648556822689861],\n",
    " [2.9056817174227363,\n",
    "  2.6745555746365932,\n",
    "  2.7191598304035924,\n",
    "  2.6494167555532795,\n",
    "  2.6411514882800806,\n",
    "  2.954650012195462,\n",
    "  2.6024205018376554,\n",
    "  2.807826034337825,\n",
    "  2.6947439419679418,\n",
    "  2.7596096277257502],\n",
    " [3.030892194614601,\n",
    "  3.016849703816515,\n",
    "  2.9014884901061029,\n",
    "  3.2366953496926811,\n",
    "  2.8661327612138199,\n",
    "  2.9960143235216106,\n",
    "  3.0129412044294219,\n",
    "  3.0497761883921179,\n",
    "  2.9646487871368103,\n",
    "  3.0696700234393699],\n",
    " [3.2576948567945281,\n",
    "  3.2814706257968398,\n",
    "  3.0197615014996879,\n",
    "  3.269800952502997,\n",
    "  3.268578313498447,\n",
    "  3.3137790118797938,\n",
    "  3.1544945110730138,\n",
    "  3.037336464454242,\n",
    "  3.3038657336514277,\n",
    "  3.2028837565945905],\n",
    " [3.2482343061659003,\n",
    "  3.2448688913266772,\n",
    "  3.308479984663252,\n",
    "  3.3297294819351126,\n",
    "  3.2862238145602807,\n",
    "  3.2674904145655672,\n",
    "  3.3239298377172992,\n",
    "  3.411523526616044,\n",
    "  3.1853379656752003,\n",
    "  3.326907654655308],\n",
    " [3.7256218665706635,\n",
    "  3.6166721977862712,\n",
    "  3.6739315272417206,\n",
    "  3.7162790059620709,\n",
    "  3.6105375144164271,\n",
    "  3.61978644064803,\n",
    "  3.5665141538585754,\n",
    "  3.6702020660054506,\n",
    "  3.7481165492984276,\n",
    "  3.7701374852310665],\n",
    " [4.0489909595214399,\n",
    "  3.9844660447795208,\n",
    "  4.0780032160614015,\n",
    "  4.0413018624711166,\n",
    "  4.0497634711138772,\n",
    "  4.1328622629349034,\n",
    "  4.1358988710908511,\n",
    "  4.0266686608396434,\n",
    "  4.0860960801346664,\n",
    "  4.0682622772719741],\n",
    " [4.4101910893160596,\n",
    "  4.256576729812422,\n",
    "  4.2343433895830307,\n",
    "  4.3235482600150918,\n",
    "  4.3146921089743611,\n",
    "  4.2780550274871727,\n",
    "  4.2801968458702992,\n",
    "  4.3523307398915891,\n",
    "  4.3010391343109795,\n",
    "  4.270083716739367],\n",
    " [4.486807691749263,\n",
    "  4.4166932982183855,\n",
    "  4.4754582079628493,\n",
    "  4.4637569217026449,\n",
    "  4.4127118787304198,\n",
    "  4.4237869025355261,\n",
    "  4.4246738898883127,\n",
    "  4.4146738052131376,\n",
    "  4.4568893854719365,\n",
    "  4.3887471923078536],\n",
    " [4.5278104381272994,\n",
    "  4.5816958525410705,\n",
    "  4.5743468990661196,\n",
    "  4.5833396583814938,\n",
    "  4.5789249178252378,\n",
    "  4.5373950936458547,\n",
    "  4.5806555767711448,\n",
    "  4.5752105429191205,\n",
    "  4.5646341576942397,\n",
    "  4.5511062006338125],\n",
    " [4.6495870011556635,\n",
    "  4.7301109010440188,\n",
    "  4.6136756539121748,\n",
    "  4.6241640415317304,\n",
    "  4.6746465536639548,\n",
    "  4.6430821096576338,\n",
    "  4.5751413859677879,\n",
    "  4.5983287904479191,\n",
    "  4.652820256172757,\n",
    "  4.6767942566359597],\n",
    " [4.7542890429345173,\n",
    "  4.7912003583736045,\n",
    "  4.7105614518593537,\n",
    "  4.7247879956274339,\n",
    "  4.7431710998842869,\n",
    "  4.6953326261580113,\n",
    "  4.7357622396697456,\n",
    "  4.7377589460022635,\n",
    "  4.7435597940617127,\n",
    "  4.6663778744979547],\n",
    " [4.7972972573247832,\n",
    "  4.7819358531121194,\n",
    "  4.8525763677293714,\n",
    "  4.8318256478394215,\n",
    "  4.8207070978863715,\n",
    "  4.8424982159626664,\n",
    "  4.8600456259591898,\n",
    "  4.7026430301037516,\n",
    "  4.8951607106186037,\n",
    "  4.9444575095974868],\n",
    " [5.0424667334507136,\n",
    "  4.8345390305157308,\n",
    "  4.8829041881927733,\n",
    "  4.803688476054071,\n",
    "  4.8441181430532252,\n",
    "  4.8151245399308404,\n",
    "  4.7502580284497,\n",
    "  4.7986198078658759,\n",
    "  4.9246866033748189,\n",
    "  4.8173780397246162]] "
   ]
  },
  {
   "cell_type": "code",
   "execution_count": null,
   "metadata": {
    "collapsed": true
   },
   "outputs": [],
   "source": [
    "fig,ax = plt.subplots(figsize=(20,20),facecolor='w')\n",
    "c1 = 'indianred'\n",
    "c2 = 'cornflowerblue'\n",
    "c3 = 'mediumorchid'\n",
    "for prop, me, n1e, n2e, in zip(samp_props, model_entropies, null1_entropies, null2_entropies):\n",
    "    for m, n1, n2 in zip(me, n1e, n2e):\n",
    "        ax.scatter(prop,m,s=30,facecolor=c1) #model\n",
    "        ax.scatter(prop,n1,s=30,facecolor=c2)\n",
    "        ax.scatter(prop,n2,s=30,facecolor=c3)\n",
    "\n",
    "m_mean = [np.mean(x) for x in model_entropies]\n",
    "ax.plot(samp_props, m_mean, color=c1)\n",
    "\n",
    "n1_mean = [np.mean(x) for x in null1_entropies]\n",
    "ax.plot(samp_props, n1_mean, color=c2)\n",
    "\n",
    "n2_mean = [np.mean(x) for x in null2_entropies]\n",
    "ax.plot(samp_props, n2_mean, color=c3)\n",
    "\n",
    "ax.set_xlabel('Proportion of Unknown Samples', fontsize = 20)\n",
    "ax.set_ylabel('Average per Sample Entropy', fontsize = 20)\n",
    "plt.show()"
   ]
  }
 ],
 "metadata": {
  "kernelspec": {
   "display_name": "Python 2",
   "language": "python",
   "name": "python2"
  },
  "language_info": {
   "codemirror_mode": {
    "name": "ipython",
    "version": 2
   },
   "file_extension": ".py",
   "mimetype": "text/x-python",
   "name": "python",
   "nbconvert_exporter": "python",
   "pygments_lexer": "ipython2",
   "version": "2.7.12"
  }
 },
 "nbformat": 4,
 "nbformat_minor": 2
}
