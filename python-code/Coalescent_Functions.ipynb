{
 "cells": [
  {
   "cell_type": "code",
   "execution_count": null,
   "metadata": {
    "collapsed": true
   },
   "outputs": [],
   "source": [
    "import dendropy\n",
    "from dendropy import Tree\n",
    "import math\n",
    "from dendropy import Node\n",
    "import operator\n",
    "import numpy as np\n",
    "import random as rd\n",
    "from scipy.stats import zscore"
   ]
  },
  {
   "cell_type": "code",
   "execution_count": null,
   "metadata": {
    "collapsed": true
   },
   "outputs": [],
   "source": [
    "#function that takes the product of multiple numbers, or returns 1 if the list is empty\n",
    "def prod(factors):\n",
    "    return reduce(operator.mul, factors, 1)"
   ]
  },
  {
   "cell_type": "code",
   "execution_count": null,
   "metadata": {
    "collapsed": true
   },
   "outputs": [],
   "source": [
    "#names nodes in a tree in tips then tree traversal order for clarity during function testing\n",
    "def name_nodes(tree):\n",
    "    current_node_name = len(tree.leaf_nodes())+1\n",
    "    for (index, node) in enumerate(tree.nodes()):\n",
    "        if node.taxon:\n",
    "            node.label = str(node.taxon.label)\n",
    "        else:\n",
    "            node.label = str(current_node_name)\n",
    "            current_node_name += 1\n",
    "            \n",
    "def name_edges(tree):\n",
    "    #give each edge a label\n",
    "    for (index, edge) in enumerate(tree.preorder_edge_iter()):\n",
    "        edge.label = str(index)"
   ]
  },
  {
   "cell_type": "markdown",
   "metadata": {},
   "source": [
    "### Expected Sampling Under Internal Nodes \n",
    "- With Simultaneous Sampling\n",
    "- Can evaluate a portion of the tree starting from a given distance from root\n",
    "- Can evaluate from a distance greater than the furthest sampled tip"
   ]
  },
  {
   "cell_type": "code",
   "execution_count": null,
   "metadata": {
    "collapsed": true
   },
   "outputs": [],
   "source": [
    "def zipped_sorted_intervals(tree):\n",
    "    \"\"\"\n",
    "        Takes in a tree object and finds information on each interval (marked by time points from root). \n",
    "        Returns a list of lists. Each element in the final list represents an interval. Within each interval is:\n",
    "            1. [start time of interval, end time of interval]\n",
    "            2. list of active lineages within each interval (the lineage is denoted by the node at its tail)\n",
    "    \"\"\"\n",
    "    #each node and its distance from the most recently sampled tip, sorted in order from most recent to oldest\n",
    "    zipped_dists = zip(tree.nodes(),tree.calc_node_root_distances(return_leaf_distances_only =False))\n",
    "    sorted_zipped_dists = reversed(sorted(zipped_dists, key=lambda branches: branches[1])) #sort by farthest to nearest from root\n",
    "    \n",
    "    intervals = []\n",
    "    living_lineages = []\n",
    "    \n",
    "    current_start = tree.max_distance_from_root()\n",
    "\n",
    "    for (node, distance) in sorted_zipped_dists:\n",
    "        if current_start == distance:\n",
    "            #if there are multiple lineages sampled at the same time, add them to the current interval and move to the next node\n",
    "            living_lineages.append(node)\n",
    "\n",
    "        else:\n",
    "            #add the interval to the set of intervals \n",
    "            intervals.append([[current_start, distance], living_lineages])\n",
    "\n",
    "            #update the starting distance of the new interval\n",
    "            current_start = distance\n",
    "\n",
    "            #add the current node and remove children of the node if there are any\n",
    "            children = set(node.child_nodes())\n",
    "            living_lineages = list(children.symmetric_difference(living_lineages))\n",
    "            living_lineages.append(node)  \n",
    "\n",
    "    return intervals"
   ]
  },
  {
   "cell_type": "markdown",
   "metadata": {},
   "source": [
    "#### Allows to start algorithm at cut_dist_from_root (>0) and evaluate tree from that point to the root"
   ]
  },
  {
   "cell_type": "code",
   "execution_count": null,
   "metadata": {
    "collapsed": true
   },
   "outputs": [],
   "source": [
    "def zipped_partial_intervals(tree, cut_dist_from_root): \n",
    "    \"\"\"\n",
    "    Like zipped_sorted_intervals but takes a cut_distance_from_root, the time point in the tree\n",
    "    to treat as time 0 (ignores all of the branches and samples that occur more recently from this time)\n",
    "    \"\"\"\n",
    "    zipped_lineages = zipped_sorted_intervals(tree)\n",
    "    \n",
    "    if cut_dist_from_root > tree.max_distance_from_root():\n",
    "        included_intervals =[([float(cut_dist_from_root), tree.max_distance_from_root()],[])]\n",
    "        included_intervals.extend(zipped_lineages)\n",
    "        \n",
    "    else:\n",
    "        included_intervals = [(interval_endpoints, interval_nodes) for (interval_endpoints, interval_nodes) in zipped_lineages if cut_dist_from_root > interval_endpoints[1]]\n",
    "        included_intervals[0][0][0] = float(cut_dist_from_root) #if the cut fell in the middle of an interval, change the first included interval to reflect this\n",
    "    \n",
    "    return included_intervals"
   ]
  },
  {
   "cell_type": "code",
   "execution_count": null,
   "metadata": {
    "collapsed": true
   },
   "outputs": [],
   "source": [
    "def conditioned_prob_lineage_coal(tree, popsize, cut_dist_from_root = None):\n",
    "    \"\"\"\n",
    "        Takes in a tree object and a constant population size and returns a list containing \n",
    "        the probability of coalescence to one lineage for each interval. (can start midway through tree with cut_dist_from_root)\n",
    "        Those probabilities are conditioned by the probability of not coalescing anywhere else downstream in the tree.\n",
    "    \"\"\"\n",
    "    if cut_dist_from_root:\n",
    "        intervals = zipped_partial_intervals(tree, cut_dist_from_root)\n",
    "    else:\n",
    "        intervals = zipped_sorted_intervals(tree)\n",
    "    \n",
    "    interval_length = []\n",
    "    num_lineages = []\n",
    "\n",
    "    #for each interval find the length of the interval and the number of lineages present\n",
    "    for (interval_endpoints, nodes) in intervals:\n",
    "        interval_length.append(interval_endpoints[0] - interval_endpoints[1])\n",
    "        num_lineages.append(len(nodes))\n",
    "\n",
    "    #continuous time probability of coalescence for each interval (not conditioned on time)\n",
    "    prob_coalescence_in_interval = [1-math.exp(-(float(lineages)/popsize)*length) if num_lineages is not 0 else 0 for (length, lineages) in zip(interval_length, num_lineages)]\n",
    "    prob_no_coalescence_in_interval = [1-pcoal for pcoal in prob_coalescence_in_interval]\n",
    "\n",
    "    coalintervals = []\n",
    "    #find the probability of coalescing with a single lineage conditioned by position in tree (p no coal earlier * pcoal current interval)\n",
    "    for (index, interval) in enumerate(prob_no_coalescence_in_interval):\n",
    "        if num_lineages[index] is not 0:\n",
    "            coalintervals.append(prod(prob_no_coalescence_in_interval[:index])*prob_coalescence_in_interval[index]/num_lineages[index])#the number of lineages \n",
    "        else:\n",
    "            coalintervals.append(0)\n",
    "    return coalintervals"
   ]
  },
  {
   "cell_type": "code",
   "execution_count": null,
   "metadata": {
    "collapsed": true
   },
   "outputs": [],
   "source": [
    "def pcoal_along_edge(tree, popsize, cut_dist_from_root = None):\n",
    "    \"\"\"\n",
    "        Takes in a tree object and constant population size and returns a dictionary containing each edge's conditioned probability\n",
    "        of coalescence.(can start midway through tree with cut_dist_from_root)\n",
    "        Each probability is a value keyed to the corresponding edge and these probabilities are not cumulative\n",
    "    \"\"\"\n",
    "    edge_prob = {}\n",
    "    for node in tree.nodes():\n",
    "        edge_prob[node.edge] = 0.0\n",
    "        \n",
    "    pcoal = conditioned_prob_lineage_coal(tree, popsize, cut_dist_from_root)\n",
    "    \n",
    "    if cut_dist_from_root:\n",
    "        interval_lineages = zip(*zipped_partial_intervals(tree, cut_dist_from_root))[1]\n",
    "    else:\n",
    "        interval_lineages = zip(*zipped_sorted_intervals(tree))[1]\n",
    "\n",
    "    for (index, interval) in enumerate(interval_lineages): #for the list of nodes in each interval, if it doesn't belong to the dictionary, set the edge connection to it to pcoal (conditioned)\n",
    "        for node in interval:\n",
    "            edge_prob[node.edge] += pcoal[index]\n",
    "            \n",
    "    edge_prob[tree.seed_node.edge] = 1-sum(edge_prob.values())\n",
    "\n",
    "    return edge_prob"
   ]
  },
  {
   "cell_type": "markdown",
   "metadata": {},
   "source": [
    "### Measures of Sampledness for the Entire Tree"
   ]
  },
  {
   "cell_type": "code",
   "execution_count": null,
   "metadata": {
    "collapsed": true
   },
   "outputs": [],
   "source": [
    "def calculate_cumulative_node_prob(tree, popsize):\n",
    "    \"\"\"\n",
    "        Takes in a tree object and constant population size and finds the cumulative expectation of proportion of the \n",
    "        tips theoretically sampled under each internal node using the coalescent model.\n",
    "    \"\"\"\n",
    "    prob_lineage = pcoal_along_edge(tree, popsize)\n",
    "\n",
    "    #dictionary to store the cumulative probability of a new sample coalescing (value) under each node (key)\n",
    "    cumulative_node_prob ={}\n",
    "\n",
    "    #look at each internal (non-tip) node\n",
    "    for node in tree.internal_nodes():\n",
    "        node_prob = 0\n",
    "\n",
    "        #iterate through the nodes belonging to the subtree rooted at node\n",
    "        for subtree_node in node.preorder_iter():\n",
    "\n",
    "            #look at each edge of the node and add its probability to the cumulative node prob\n",
    "            for edge in subtree_node.child_edge_iter():\n",
    "                node_prob += prob_lineage[edge]\n",
    "\n",
    "        cumulative_node_prob[node] = node_prob\n",
    "    return cumulative_node_prob"
   ]
  },
  {
   "cell_type": "markdown",
   "metadata": {},
   "source": [
    "#### Z-Scores"
   ]
  },
  {
   "cell_type": "code",
   "execution_count": null,
   "metadata": {
    "collapsed": true
   },
   "outputs": [],
   "source": [
    "def node_zscores(node_prob_dict, tree):\n",
    "    \"\"\"\n",
    "        Takes in the resulting dictionart from calculate_cumulative_node_prob() as well as the tree and returns\n",
    "        a dictionary of each internal node's z-score\n",
    "    \"\"\"\n",
    "    keys, vals = zip(*node_prob_dict.items())\n",
    "    \n",
    "    #number of tips under each node as well as the total number of tips in the tree\n",
    "    num_tips = [len(node.leaf_nodes()) for node in keys]\n",
    "    total_tips = len(tree.leaf_nodes())\n",
    "    \n",
    "    #take the difference between the actual number of tips under each interal node and the theoretical number \n",
    "    #of internal nodes from the calculated cumulative node prob\n",
    "    vals = [prob*total_tips-tips for (prob, tips)  in zip(vals, num_tips)]\n",
    "    \n",
    "    #scale result and zip back into dictionary ddof = 1 for n-1 df (divides by n-1 instead of n)\n",
    "    return dict(zip(keys, zscore(vals, ddof=1)))"
   ]
  },
  {
   "cell_type": "markdown",
   "metadata": {},
   "source": [
    "## Example trees without simultaneous sampling"
   ]
  },
  {
   "cell_type": "code",
   "execution_count": null,
   "metadata": {
    "collapsed": true
   },
   "outputs": [],
   "source": [
    "ebov_j = Tree.get(path=\"jittered-ebola.nex\", schema=\"nexus\")\n",
    "name_nodes(ebov_j)\n",
    "popsize = 1\n",
    "#zipped_sorted_intervals(tr)\n",
    "#conditioned_prob_lineage_coal(tr, popsize)\n",
    "#lineages_in_each_interval(tr)\n",
    "#pcoals = pcoal_along_edge(tr, popsize)\n",
    "calculate_cumulative_node_prob(ebov_j, popsize)\n"
   ]
  },
  {
   "cell_type": "code",
   "execution_count": null,
   "metadata": {
    "collapsed": true
   },
   "outputs": [],
   "source": [
    "tr = Tree.get(path=\"toytree.nex\", schema=\"nexus\")\n",
    "name_nodes(tr)\n",
    "popsize = 50\n",
    "#print zipped_sorted_intervals(tr), \"\\n\"\n",
    "#print conditioned_prob_lineage_coalescence(tr, popsize), \"\\n\"\n",
    "#print lineages_in_each_interval(tr), \"\\n\"\n",
    "#print pcoal_along_edge(tr, popsize), \"\\n\"\n",
    "calculate_cumulative_node_prob(tr, popsize)"
   ]
  },
  {
   "cell_type": "markdown",
   "metadata": {
    "collapsed": true
   },
   "source": [
    "### Example Trees with Simultaneous Sampling"
   ]
  },
  {
   "cell_type": "code",
   "execution_count": null,
   "metadata": {
    "collapsed": true
   },
   "outputs": [],
   "source": [
    "ebov = Tree.get(path=\"ebola.tree\", schema=\"nexus\")\n",
    "name_nodes(ebov)\n",
    "name_edges(ebov)\n",
    "\n",
    "tr2 = Tree.get(path=\"toy-2-multiple-samples-at-t.nex\", schema=\"nexus\")\n",
    "name_nodes(tr2)\n",
    "name_edges(tr2)"
   ]
  },
  {
   "cell_type": "code",
   "execution_count": null,
   "metadata": {
    "collapsed": true
   },
   "outputs": [],
   "source": [
    "calculate_cumulative_node_prob(ebov, 1)"
   ]
  },
  {
   "cell_type": "code",
   "execution_count": null,
   "metadata": {
    "collapsed": true
   },
   "outputs": [],
   "source": [
    "#calculate_cumulative_node_prob(tr2, 50)\n",
    "#pcoal_along_edge(tr2, 50) #full tree\n",
    "#pcoal_along_edge(tr2, 50, 39) #sliced partway through the tree\n",
    "pcoal_along_edge(tr2, 50, 70) #a slice further than the most recent sampled tip, gives the same probs as the full tree but is given a space holder in the other dependent functions"
   ]
  },
  {
   "cell_type": "markdown",
   "metadata": {},
   "source": [
    "### Larger Tree ~1600 samples"
   ]
  },
  {
   "cell_type": "code",
   "execution_count": null,
   "metadata": {
    "collapsed": true
   },
   "outputs": [],
   "source": [
    "lg_tr = Tree.get(path=\"full-ebola.nex\", schema=\"nexus\")\n",
    "name_nodes(lg_tr)\n",
    "name_edges(lg_tr)\n",
    "popsize = 1"
   ]
  },
  {
   "cell_type": "markdown",
   "metadata": {},
   "source": [
    "### Time Slicing (From most recent tip to sliced to the time time_slice)"
   ]
  },
  {
   "cell_type": "code",
   "execution_count": null,
   "metadata": {
    "collapsed": true
   },
   "outputs": [],
   "source": [
    "def time_sliced_lineages_in_interval(tree, slice_time):\n",
    "    zipped_lineages = zipped_sorted_intervals(tree)\n",
    "\n",
    "    included_intervals = []\n",
    "    reached_time_slice = False\n",
    "    for (interval_endpoints, node_list) in zipped_lineages:    \n",
    "        if reached_time_slice:\n",
    "            break\n",
    "        if interval_endpoints[1] >= float(slice_time):\n",
    "            reached_time_slice = True\n",
    "        included_intervals.append([interval_endpoints, node_list])\n",
    "\n",
    "    return included_intervals"
   ]
  },
  {
   "cell_type": "code",
   "execution_count": null,
   "metadata": {
    "collapsed": true
   },
   "outputs": [],
   "source": [
    "def time_sliced_pcoal_along_edge(tree, popsize, slice_time):\n",
    "    edge_prob = {}\n",
    "    pcoal = conditioned_prob_lineage_coal(tree, popsize)\n",
    "    last_interval, lin_set = zip(*time_sliced_lineages_in_interval(tree, slice_time))\n",
    "    last_interval = last_interval[-1]\n",
    "\n",
    "    for (index, interval) in enumerate(lin_set):\n",
    "        if index == len(lin_set)-1:\n",
    "            frac_of_interval = (slice_time - last_interval[0])/(last_interval[1]-last_interval[0])\n",
    "        else:\n",
    "            frac_of_interval = 1.0\n",
    "            \n",
    "        for node in interval:\n",
    "            if node.edge not in edge_prob:\n",
    "                edge_prob[node.edge] = pcoal[index]*frac_of_interval\n",
    "\n",
    "            else:\n",
    "                edge_prob[node.edge] += pcoal[index]*frac_of_interval\n",
    "\n",
    "    return edge_prob"
   ]
  },
  {
   "cell_type": "code",
   "execution_count": null,
   "metadata": {
    "collapsed": true
   },
   "outputs": [],
   "source": [
    "def calculate_cumulative_time_sliced_edge_prob(tree, popsize, slice_time):\n",
    "    if slice_time > tree.max_distance_from_root():\n",
    "        slice_time = tree.max_distance_from_root()\n",
    "        \n",
    "    prob_lineage = time_sliced_pcoal_along_edge(tree, popsize, slice_time)\n",
    "    cumulative_prob ={}\n",
    "\n",
    "    #find which lineages to calculate cumulative probabilities for (at the time slice) \n",
    "    last_lin_set = zip(*time_sliced_lineages_in_interval(tree, slice_time))[1][-1]\n",
    "\n",
    "    for lineage_node in last_lin_set:\n",
    "        #add the initial sliced edge\n",
    "        prob = prob_lineage[lineage_node.edge]\n",
    "\n",
    "        #iterate through the nodes belonging to the subtree rooted at node\n",
    "        for subtree_node in lineage_node.preorder_iter():\n",
    "\n",
    "            #look at each edge of the node and add its edge probability to the cumulative node prob\n",
    "            for edge in subtree_node.child_edge_iter():\n",
    "                prob += prob_lineage[edge]\n",
    "                \n",
    "        #add the cumulative probability of everything below the sliced edge to the set of final cumulative probabilities\n",
    "        cumulative_prob[lineage_node.edge] = prob\n",
    "    return cumulative_prob"
   ]
  },
  {
   "cell_type": "markdown",
   "metadata": {},
   "source": [
    "## Model Evaluation"
   ]
  },
  {
   "cell_type": "code",
   "execution_count": 1,
   "metadata": {
    "collapsed": true
   },
   "outputs": [],
   "source": [
    "def randomly_prune_tree(tree, proportion_tips_to_drop):\n",
    "    \"\"\"\n",
    "        Takes in a tree and a proportion of tips to drop and returns, in a dict, the full tree, remaining pruned tree\n",
    "        list of dropped samples, dictionary of distances from each node to the root of the full tree, and the\n",
    "        root reference, the distance in the full tree where the root of the pruned tree lies\n",
    "    \"\"\"\n",
    "    name_edges(tree)\n",
    "    name_nodes(tree)\n",
    "    pruned_tree = tree.clone()\n",
    "    name_edges(pruned_tree)\n",
    "    name_nodes(pruned_tree)\n",
    "\n",
    "    #take the distance from the original root (to give time references of when to look for a missed sampling event)\n",
    "    full_dist_from_root = {}\n",
    "    for nd in pruned_tree.nodes():\n",
    "        full_dist_from_root[nd] = nd.distance_from_root()\n",
    "\n",
    "    #drop some proportion of samples\n",
    "    dropped_samples = rd.sample(pruned_tree.leaf_nodes(), int(round(proportion_tips_to_drop*len(tree.leaf_nodes())))) #actual samples to be dropped\n",
    "    for nd in dropped_samples:\n",
    "        pruned_tree.prune_subtree(nd) #prune the tree by dropping tips in dropped_samples\n",
    "\n",
    "    root_ref = full_dist_from_root.get(pruned_tree.seed_node)\n",
    "\n",
    "    return {'full_tree': tree, 'pruned_tree': pruned_tree, 'dropped_samples': dropped_samples, 'node_root_dist_full_tree': full_dist_from_root, 'root_reference': root_ref}\n"
   ]
  },
  {
   "cell_type": "code",
   "execution_count": null,
   "metadata": {
    "collapsed": true
   },
   "outputs": [],
   "source": [
    "def theoretical_attachment_prob_matrix(tree, pruned_tree, root_ref, popsize, full_dist_from_root, dropped_samples):\n",
    "    \"\"\"\n",
    "        Uses the coalescent framework to find the theoretical probability of each dropped sample attaching to each edge in the \n",
    "        remaining pruned tree. It requires information about both the full and pruned tree and returns a numpy array \n",
    "        where each row corresponds to a dropped sample and each column represents an edge in the pruned tree. The cells\n",
    "        are the probabilities that the node attached at that edge and each row sums to 1.\n",
    "    \"\"\"\n",
    "    unsampled_theoretical_probs =[]\n",
    "\n",
    "    for node in dropped_samples:\n",
    "        current_node_probs = []\n",
    "        samp_dist = full_dist_from_root.get(node) - root_ref #makes sure if the root of the original tree was removed, this distance reflects the change\n",
    "        if samp_dist >= 0: #if the sample is more recent than the pruned tree's root\n",
    "            probs = pcoal_along_edge(pruned_tree, popsize, samp_dist) #the edge prob coals at the sample's distance from the root\n",
    "\n",
    "            for edge in pruned_tree.preorder_edge_iter(): #in edge order, add each probability to the current node's probability list\n",
    "                current_node_probs.append(probs.get(edge))\n",
    "\n",
    "            assert (abs(sum(current_node_probs)-1.0) < .000001), \"The sum of the probabilities for this dropped sample is not 1\"\n",
    "            unsampled_theoretical_probs.append(current_node_probs) #give the theoretical probability matrix the probabilities of the current node for each edge\n",
    "\n",
    "        else: #if the sample predates the pruned tree's root, it must attach at the edge above the root with probability 1\n",
    "            current_node_probs = [1.0]\n",
    "            current_node_probs.extend([0.0]*(len(pruned_tree.edges()) - 1))\n",
    "            unsampled_theoretical_probs.append(current_node_probs)\n",
    "\n",
    "    return (np.array(unsampled_theoretical_probs)) #matrix: columns are edges, rows are known unsampled tips, values are probabilities"
   ]
  },
  {
   "cell_type": "code",
   "execution_count": null,
   "metadata": {
    "collapsed": true
   },
   "outputs": [],
   "source": [
    "def observed_attachment_prob_matrix(tree, pruned_tree, dropped_samples):\n",
    "    \"\"\"\n",
    "        Takes in the tree, pruned tree, and dropped samples and finds the edge each dropped sample attaches to in the pruned tree\n",
    "    \"\"\"\n",
    "    pruned_tree_node_labels = [node.label for node in pruned_tree.preorder_node_iter()] #all node labels in the pruned tree\n",
    "    pruned_tree_edge_labels = [edge.label for edge in pruned_tree.preorder_edge_iter()] #all edge labels in the pruned tree\n",
    "    node_matrix = []\n",
    "\n",
    "    for sample in dropped_samples: #look at each dropped sample\n",
    "        current_sample = [0.0]*len(pruned_tree_edge_labels)\n",
    "        node = next(n for n in tree.nodes() if n.label == sample.label) #find the corresponding node in the original tree\n",
    "        current_parent = node.parent_node #parent in the full tree\n",
    "        current_sibling = node.sibling_nodes()[0]\n",
    "        found_attachment_edge = False\n",
    "\n",
    "        while not found_attachment_edge: # looking for where it attaches in the pruned tree\n",
    "            if current_parent.label in pruned_tree_node_labels: #if its parent is in the pruned tree, that is where the sample connects\n",
    "                edge_to_attach_to = current_parent.edge.label\n",
    "                found_attachment_edge = True\n",
    "\n",
    "            else:\n",
    "                for nd in current_sibling.preorder_iter(): #otherwise look at the sibling node and all of its decendents to see if they are in the pruned tree\n",
    "                    if nd.label in pruned_tree_node_labels:\n",
    "                        edge_to_attach_to = nd.edge.label\n",
    "                        found_attachment_edge = True\n",
    "                        break\n",
    "                else: #the sibling, its children, and the parent are not in the pruned tree, move up to the parent's parent and try again\n",
    "                    current_sibling = current_parent.sibling_nodes()[0]\n",
    "                    current_parent = current_parent.parent_node\n",
    "\n",
    "        current_sample[pruned_tree_edge_labels.index(edge_to_attach_to)] = 1.0 #input a 1 at the edge the dropped sample attaches\n",
    "        assert (sum(current_sample) == 1), \"the sum of the probabilities for this dropped sample is not 1\"\n",
    "        node_matrix.append(current_sample)\n",
    "    return np.array(node_matrix)\n"
   ]
  }
 ],
 "metadata": {
  "kernelspec": {
   "display_name": "Python 2",
   "language": "python",
   "name": "python2"
  },
  "language_info": {
   "codemirror_mode": {
    "name": "ipython",
    "version": 2
   },
   "file_extension": ".py",
   "mimetype": "text/x-python",
   "name": "python",
   "nbconvert_exporter": "python",
   "pygments_lexer": "ipython2",
   "version": "2.7.13"
  }
 },
 "nbformat": 4,
 "nbformat_minor": 2
}
