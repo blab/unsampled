{
 "cells": [
  {
   "cell_type": "code",
   "execution_count": 1,
   "metadata": {
    "collapsed": true
   },
   "outputs": [],
   "source": [
    "from unsampled import *\n",
    "import matplotlib.mlab as mlab\n",
    "import matplotlib.pyplot as plt\n",
    "import matplotlib.colors as colors\n",
    "import matplotlib as mpl\n",
    "from matplotlib.ticker import MaxNLocator\n",
    "\n",
    "from scipy.stats.stats import pearsonr\n",
    "import scipy.stats as stats"
   ]
  },
  {
   "cell_type": "markdown",
   "metadata": {},
   "source": [
    "## Tree Visualizations"
   ]
  },
  {
   "cell_type": "markdown",
   "metadata": {},
   "source": [
    "### Setting up the Trees and Plotting"
   ]
  },
  {
   "cell_type": "code",
   "execution_count": 2,
   "metadata": {
    "collapsed": true,
    "scrolled": true
   },
   "outputs": [],
   "source": [
    "t1 = Tree.get(path=\"tree1\", schema=\"nexus\")"
   ]
  },
  {
   "cell_type": "code",
   "execution_count": 3,
   "metadata": {
    "collapsed": true
   },
   "outputs": [],
   "source": [
    "rd.seed(100) #for replicability\n",
    "pruned_dict = randomly_prune_tree(t1, .95)\n",
    "popsize = 1\n",
    "\n",
    "#matrix of observed and expected attachemt to each edge in the pruned tree for each dropped sample\n",
    "exp = theoretical_attachment_prob_matrix(pruned_dict.get('full_tree'), pruned_dict.get('pruned_tree'), pruned_dict.get('root_reference'), \n",
    "                                   popsize, pruned_dict.get('node_root_dist_full_tree'), pruned_dict.get('dropped_samples'))\n",
    "obs = observed_attachment_prob_matrix(pruned_dict.get('full_tree'), pruned_dict.get('pruned_tree'), pruned_dict.get('dropped_samples'))\n",
    "\n",
    "#cumulative proportion of sampling expected under each clade\n",
    "node_probs = calculate_cumulative_node_prob(t1, 1)"
   ]
  },
  {
   "cell_type": "markdown",
   "metadata": {},
   "source": [
    "Give each sample a y-position for plotting (both for the full tree and the pruned, remaining tree)"
   ]
  },
  {
   "cell_type": "code",
   "execution_count": 4,
   "metadata": {
    "collapsed": true
   },
   "outputs": [],
   "source": [
    "#y-plotting for the full tree\n",
    "y_positions = y_dist_dict(t1)\n",
    "\n",
    "#y-plotting for the pruned tree\n",
    "y_pos = y_dist_dict(pruned_dict.get('pruned_tree'))"
   ]
  },
  {
   "cell_type": "code",
   "execution_count": 5,
   "metadata": {
    "collapsed": true
   },
   "outputs": [],
   "source": [
    "#create the list of node labels that correspond to the pruned tree in the full tree\n",
    "tips_left = [node for node in pruned_dict.get('pruned_tree').leaf_nodes()]\n",
    "pruned_labs = [node.label for node in tips_left]\n",
    "for sample in tips_left:\n",
    "    curr = next(n for n in pruned_dict.get('full_tree').nodes() if n.label == sample.label)\n",
    "    while curr.label != pruned_dict.get('pruned_tree').seed_node.label:\n",
    "        pruned_labs.append(curr.label)\n",
    "        curr = curr.parent_node\n",
    "pruned_labs.append(pruned_dict.get('pruned_tree').seed_node.label)        \n",
    "pruned_labs = list(set(pruned_labs))\n",
    "\n",
    "#dictionary of the number of times each remaining edge has a missing branch\n",
    "pruned_tree_labs = [node.label for node in pruned_dict.get('pruned_tree').nodes()]\n",
    "true_num_unsamp = {}\n",
    "obs = observed_attachment_prob_matrix(pruned_dict.get('full_tree'), pruned_dict.get('pruned_tree'), pruned_dict.get('dropped_samples'))\n",
    "for nd_row in obs:\n",
    "    obs_index = list(nd_row).index(1)\n",
    "    if pruned_tree_labs[obs_index] in true_num_unsamp.keys():\n",
    "        true_num_unsamp[pruned_tree_labs[obs_index]] += 1\n",
    "    else:\n",
    "        true_num_unsamp[pruned_tree_labs[obs_index]] = 1"
   ]
  },
  {
   "cell_type": "code",
   "execution_count": 6,
   "metadata": {
    "collapsed": true
   },
   "outputs": [],
   "source": [
    "#dictionary of the number of times each remaining edge has a missing branch\n",
    "pruned_tree_labs = [node.label for node in pruned_dict.get('pruned_tree').nodes()]\n",
    "true_num_unsamp = dict([(lab, 0) for lab in pruned_tree_labs])\n",
    "\n",
    "obs = observed_attachment_prob_matrix(pruned_dict.get('full_tree'), pruned_dict.get('pruned_tree'), pruned_dict.get('dropped_samples'))\n",
    "for nd_row in obs:\n",
    "    obs_index = list(nd_row).index(1)\n",
    "    true_num_unsamp[pruned_tree_labs[obs_index]] += 1"
   ]
  },
  {
   "cell_type": "code",
   "execution_count": 7,
   "metadata": {
    "collapsed": true
   },
   "outputs": [],
   "source": [
    "#color map shifting\n",
    "def truncate_colormap(cmap, minval=0.0, maxval=1.0, n=100):\n",
    "    new_cmap = colors.LinearSegmentedColormap.from_list(\n",
    "        'trunc({n},{a:.2f},{b:.2f})'.format(n=cmap.name, a=minval, b=maxval),\n",
    "        cmap(np.linspace(minval, maxval, n)))\n",
    "    return new_cmap\n",
    "\n",
    "cmap = plt.get_cmap('Blues')\n",
    "new_cmap = truncate_colormap(cmap, 0.2, 1.0)"
   ]
  },
  {
   "cell_type": "code",
   "execution_count": 8,
   "metadata": {
    "collapsed": true
   },
   "outputs": [],
   "source": [
    "#defaults across all plots\n",
    "rt_len = .1\n",
    "alpha_scale_factor = 87.1\n",
    "y_ax = len(pruned_dict.get('pruned_tree').leaf_nodes())\n",
    "#colors\n",
    "cmap = mpl.cm.get_cmap(new_cmap) # blue color map for gradients\n",
    "unsamp = '#67001f' \n",
    "samp = '#053061'\n",
    "\n",
    "#default line type, point size, branch width\n",
    "lty = '-'\n",
    "s = 50\n",
    "branchWidth=2.7\n",
    "\n",
    "#font \n",
    "mpl.rcParams['font.serif'] = \"Latin Modern Roman\"\n",
    "mpl.rcParams['font.family'] = \"serif\""
   ]
  },
  {
   "cell_type": "code",
   "execution_count": 9,
   "metadata": {
    "collapsed": true
   },
   "outputs": [],
   "source": [
    "branch_expected = [] #aggregated \n",
    "branch_observed = []\n",
    "diff_dist = [] #distribution of the differences between the expected and observed\n",
    "for index, k in enumerate(pruned_dict.get('pruned_tree').nodes()):\n",
    "    edge_prb = exp[:,index] #column from expected at the index of the current edge\n",
    "    sum_exp = sum(edge_prb) #column sum/number of samples\n",
    "    dropped = true_num_unsamp.get(k.label)\n",
    "    branch_expected.append(sum_exp)\n",
    "    branch_observed.append(dropped)\n",
    "    diff_dist.append(sum_exp - dropped) #expected - observed "
   ]
  },
  {
   "cell_type": "markdown",
   "metadata": {},
   "source": [
    "### Full Tree with Missing Samples"
   ]
  },
  {
   "cell_type": "code",
   "execution_count": null,
   "metadata": {
    "collapsed": true
   },
   "outputs": [],
   "source": [
    "#plotted missing samples\n",
    "fig,ax = plt.subplots(figsize=(45,30),facecolor='w')\n",
    "\n",
    "for k in pruned_dict.get('full_tree').nodes(): # iterate over objects in full tree\n",
    "    # positioning\n",
    "    y=y_positions.get(k) \n",
    "    yp = y_positions.get(k.parent_node)\n",
    "    if k.edge.rootedge:\n",
    "        x=0.0\n",
    "    else:\n",
    "        x=k.distance_from_root()\n",
    "    if k.parent_node==None:\n",
    "        xp=x-rt_len #draw a root of length (arbitrary)\n",
    "    else:\n",
    "        xp=k.parent_node.distance_from_root()\n",
    "\n",
    "    # dropped tips, color, lty, size\n",
    "    c = [unsamp if k.label not in pruned_labs else samp][0]\n",
    "    a = [.3 if k.label not in pruned_labs else 1][0]\n",
    "    l = ['--' if k.label not in pruned_labs else '-'][0]\n",
    "    sz = [30 if k.label not in pruned_labs else 50][0]\n",
    "    \n",
    "    if k.is_leaf(): # if leaf...\n",
    "        ax.scatter(x,y,s=sz,facecolor=c,edgecolor=c,alpha = a, zorder=11) # plot circle for every tip\n",
    "        #ax.scatter(x,y,s=sz+0.8*sz,facecolor='k',edgecolor='none', alpha = a, zorder=10) # plot black circle underneath\n",
    "    ax.plot([xp,xp],[y, yp],lw=branchWidth, color=c,ls=l, alpha = a, zorder=9) #vertical bar plotting\n",
    "    ax.plot([xp,x], [y,y], lw=branchWidth, color=c, ls=l, alpha = a, zorder=9) #branch plotting\n",
    "       \n",
    "ax.set_ylim(-15, len(pruned_dict.get('full_tree').leaf_nodes()) + 15)\n",
    "ax.xaxis.set_visible(False)\n",
    "ax.yaxis.set_visible(False)\n",
    "#fig.savefig('dropped-samps.png', bbox_inches = 'tight', transparent = True)\n",
    "plt.show()"
   ]
  },
  {
   "cell_type": "markdown",
   "metadata": {},
   "source": [
    "### Pruned Tree Labeled with Observed Missing Samples on Each Branch"
   ]
  },
  {
   "cell_type": "code",
   "execution_count": null,
   "metadata": {
    "collapsed": true,
    "scrolled": false
   },
   "outputs": [],
   "source": [
    "#plotted missing samples\n",
    "fig,ax = plt.subplots(figsize=(30,20),facecolor='w')\n",
    "\n",
    "for k in pruned_dict.get('pruned_tree').nodes(): # iterate over objects in tree\n",
    "    \n",
    "    # positioning\n",
    "    y=y_pos.get(k) \n",
    "\n",
    "    if k.parent_node==None:\n",
    "        x=0.0\n",
    "        xp=x\n",
    "        yp = y_pos.get(k)\n",
    "    else:\n",
    "        yp = y_pos.get(k.parent_node)\n",
    "        xp=k.parent_node.distance_from_root()\n",
    "        x=k.distance_from_root()\n",
    "        \n",
    "    #distribution of missing samples\n",
    "    if true_num_unsamp.has_key(k.label):\n",
    "        dropped = true_num_unsamp.get(k.label)\n",
    "    else:\n",
    "        dropped = 0\n",
    "\n",
    "    if k.is_leaf(): # if leaf...\n",
    "        ax.scatter(x,y,s=s,facecolor=samp,edgecolor=samp,zorder=11) # plot circle for every tip\n",
    "        ax.scatter(x,y,s=s+0.8*s,facecolor='k',edgecolor='none',zorder=10) # plot black circle underneath\n",
    "        \n",
    "    ax.plot([xp,xp],[y, yp],lw=branchWidth, color=samp,ls=lty,zorder=9) #vertical bar plotting\n",
    "    ax.plot([xp,x], [y,y], lw=branchWidth, color=samp, ls=lty, zorder=9) #branch plotting\n",
    "    \n",
    "    #labeling number of true missing branches along each edge\n",
    "    ax.text(x-.5*(x-xp) , y, dropped, va='bottom', ha='center', size=12, color = samp) \n",
    "       \n",
    "ax.set_ylim(-5, y_ax + 5)\n",
    "ax.xaxis.set_visible(False)\n",
    "ax.yaxis.set_visible(False)\n",
    "\n",
    "#fig.savefig('pruned-tree.png', bbox_inches = 'tight', transparent = True)\n",
    "plt.show()"
   ]
  },
  {
   "cell_type": "markdown",
   "metadata": {},
   "source": [
    "### Pruned Tree with Distribution of Expected and Observed Missing Samples"
   ]
  },
  {
   "cell_type": "markdown",
   "metadata": {},
   "source": [
    "Plots the pruned tree with the distribution of emperically observed and expected missing sampled. The opacity of the rectangle above each branch represents the raw number of expected observations predicted by the algorithm (expected proportion multiplied by the number of missing samples). The opacity of the rectangle below each branch represents the actual number of samples missing from that branch. When the difference between the observed and expected differs by more than 1% of the total dropped branches, the actual counts of predicted and observed are labeled by the respective rectangle."
   ]
  },
  {
   "cell_type": "code",
   "execution_count": null,
   "metadata": {
    "collapsed": true,
    "scrolled": false
   },
   "outputs": [],
   "source": [
    "#plotted missing samples distribution\n",
    "fig,ax = plt.subplots(figsize=(55, 35), facecolor='w')\n",
    "\n",
    "for index, k in enumerate(pruned_dict.get('pruned_tree').nodes()): ## iterate over objects in tree\n",
    "    #distribution of missing samples\n",
    "    if true_num_unsamp.has_key(k.label):\n",
    "        dropped = true_num_unsamp.get(k.label)\n",
    "    else:\n",
    "        dropped = 0\n",
    "    \n",
    "    # positioning\n",
    "    y=y_pos.get(k) \n",
    "\n",
    "    if k.parent_node==None:\n",
    "        x=0.0\n",
    "        xp=x\n",
    "        yp = y_pos.get(k)\n",
    "    else:\n",
    "        yp = y_pos.get(k.parent_node)\n",
    "        xp=k.parent_node.distance_from_root()\n",
    "        x=k.distance_from_root()\n",
    "    \n",
    "    if k.is_leaf(): # if leaf...\n",
    "        ax.scatter(x,y,s=s,facecolor=samp,edgecolor=samp,zorder=11) # plot circle for every tip\n",
    "        ax.scatter(x,y,s=s+0.8*s,facecolor='k',edgecolor='none',zorder=10) # plot black circle underneath\n",
    "    ax.plot([xp,xp],[y, yp],lw=branchWidth, color=samp,ls=lty,zorder=9) #vertical bar plotting\n",
    "    ax.plot([xp,x], [y,y], lw=branchWidth, color=samp, ls=lty, zorder=9) #branch plotting\n",
    "    \n",
    "    #expected distribution of missing data\n",
    "    edge_prb = exp[:,index]\n",
    "    alph = sum(edge_prb) #raw column sum\n",
    "    ax.add_patch(mpl.patches.Rectangle((xp,y), (x-xp), .3, color = unsamp, alpha = alph/alpha_scale_factor)) #predicted proportion of dropped\n",
    "    ax.add_patch(mpl.patches.Rectangle((xp,y-.3), (x-xp), .3, color = unsamp, alpha = int(dropped)/alpha_scale_factor)) #actual dropped\n",
    "\n",
    "    #labeling\n",
    "    #if abs(int(dropped) - alph) > .01*len(pruned_dict.get('dropped_samples')): #greater than 1% misclassification ~15 samps\n",
    "    ax.text(x-1.0/2*(x-xp) , y-.4, dropped, va='top', ha='center', size=15, color = unsamp) #actual dropped\n",
    "    ax.text(x-1.0/2*(x-xp) , y+.4, str(round(alph,1)), va='bottom', ha='center', size=15, color = unsamp) #predicted dropped\n",
    "ax.set_ylim(-5, y_ax + 5)\n",
    "ax.xaxis.set_visible(False)\n",
    "ax.yaxis.set_visible(False)\n",
    "\n",
    "plt.show()"
   ]
  },
  {
   "cell_type": "markdown",
   "metadata": {},
   "source": [
    "### Pruned Tree with Expected and Observed Missing Samples (Branch Widths and Tick Marks)"
   ]
  },
  {
   "cell_type": "markdown",
   "metadata": {},
   "source": [
    "The weight of the branch corresponds to the number of expected missing samples along the branch (aggregated from the expected matrix for each branch). The number of tick marks corresponds to the actual number of observed dropped samples along that branch. Each 5 dropped samples have a full tick mark and a fraction of a tick mark represents a remainder"
   ]
  },
  {
   "cell_type": "code",
   "execution_count": null,
   "metadata": {
    "collapsed": true
   },
   "outputs": [],
   "source": [
    "#plotted missing samples\n",
    "fig,ax = plt.subplots(figsize=(30,20),facecolor='w')\n",
    "\n",
    "for index, k in enumerate(pruned_dict.get('pruned_tree').nodes()): ## iterate over objects in tree\n",
    "    \n",
    "    # positioning\n",
    "    y=y_pos.get(k) \n",
    "\n",
    "    if k.parent_node==None:\n",
    "        x=0.0\n",
    "        xp=x-.1\n",
    "        yp = y_pos.get(k)\n",
    "    else:\n",
    "        yp = y_pos.get(k.parent_node)\n",
    "        xp=k.parent_node.distance_from_root()\n",
    "        x=k.distance_from_root()\n",
    "    \n",
    "    if k.is_leaf(): # if leaf...\n",
    "        ax.scatter(x,y,s=s,facecolor=samp,edgecolor=samp,zorder=11) # plot circle for every tip\n",
    "        ax.scatter(x,y,s=s+0.8*s,facecolor='k',edgecolor='none',zorder=10) # plot black circle underneath\n",
    "    ax.plot([xp,xp],[y, yp],lw=1, color=samp,ls=lty,zorder=9) #vertical bar plotting\n",
    "    ax.plot([xp,x], [y,y], lw=branch_expected[index]*.1, color=samp, ls=lty, zorder=9) #branch plotting -width\n",
    "    #ax.plot([xp,x], [y,y], lw=branchWidth, color=cmap(branch_expected[index]/53.9), ls=lty, zorder=9)\n",
    "    \n",
    "    #variables for plotting the tick marks\n",
    "    dropped = branch_observed[index]\n",
    "    full_ticks = int(dropped/5.0)\n",
    "    remainder_ticks = dropped % 5\n",
    "    tick_x_pos = []\n",
    "    spacing = .007\n",
    "    ttl_tick_height = 1.0\n",
    "    \n",
    "    if dropped == 0: #no oserved samples here, dont do anything\n",
    "        pass\n",
    "        #ax.text(x - .5*(x-xp), y-.5, dropped, va = 'center', ha= 'center', size=12, color = unsamp, weight ='bold')\n",
    "    elif full_ticks == 0: #only a remainder\n",
    "        h = remainder_ticks/5.0*ttl_tick_height\n",
    "        plt.plot([x - .5*(x-xp),x - .5*(x-xp)], [y-h/2.0,y+h/2.0], c = unsamp, ls = \"-\", zorder = 15)\n",
    "        #ax.text(x - .5*(x-xp), y-.5, dropped, va = 'top', ha= 'center', size=12, color = unsamp, weight ='bold')\n",
    "    else: #plot ticks and any remainders\n",
    "        start_x = (x - .5*(x-xp)) - (int(full_ticks/2)+1)*spacing\n",
    "        while len(tick_x_pos) < full_ticks:\n",
    "            tick_x_pos.append(start_x)\n",
    "            start_x += spacing\n",
    "        for curr_tick in tick_x_pos:\n",
    "            plt.plot([curr_tick,curr_tick], [y-ttl_tick_height/2.0,y+ttl_tick_height/2.0], c = unsamp, ls = \"-\", zorder = 15)\n",
    "        h = remainder_ticks/5.0*ttl_tick_height\n",
    "        plt.plot([tick_x_pos[-1]+spacing,tick_x_pos[-1]+spacing], [y-h/2.0,y+h/2.0], c = unsamp, ls = \"-\", zorder = 15)\n",
    "    #text giving the acutal number observed and expected on each branch\n",
    "    #ax.text(x - .5*(x-xp), y-.8, dropped, va = 'top', ha= 'center', size=12, color = unsamp, weight ='bold')\n",
    "    #ax.text(x-.5*(x-xp) , y+.5, round(branch_expected[index], 1), va='bottom', ha='center', size=12, color = unsamp) \n",
    "ax.set_ylim(-5, len(pruned_dict.get('pruned_tree').leaf_nodes()) + 5)\n",
    "ax.xaxis.set_visible(False)\n",
    "ax.yaxis.set_visible(False)\n",
    "#fig.savefig('obs-exp.png', bbox_inches = 'tight', transparent = True)\n",
    "plt.show()"
   ]
  },
  {
   "cell_type": "markdown",
   "metadata": {},
   "source": [
    "### Plotting Branch Area as a Function of Expected Probability of Attachment to Branch"
   ]
  },
  {
   "cell_type": "markdown",
   "metadata": {},
   "source": [
    "The branch length is predetermined, but the branch area is determined by the scaled averaged expectation for attachment to a specific branch. Thus, the height of the branch represents the expected amount of attachment/unit of branch length. The label corresponds to the raw difference between observed and expected attachments to a branch (expectation - observations). The color corresponds to the percentile the difference falls under (much greater number of observations than expected is darker red)."
   ]
  },
  {
   "cell_type": "code",
   "execution_count": 10,
   "metadata": {},
   "outputs": [
    {
     "data": {
      "text/plain": [
       "1.925885713099615"
      ]
     },
     "execution_count": 10,
     "metadata": {},
     "output_type": "execute_result"
    }
   ],
   "source": [
    "np.percentile(diff_dist, 50) #white should be at 1.9, the 50th percentile"
   ]
  },
  {
   "cell_type": "code",
   "execution_count": 11,
   "metadata": {},
   "outputs": [
    {
     "data": {
      "image/png": "[encoded data removed]",
      "text/plain": [
       "<matplotlib.figure.Figure at 0xac450f0>"
      ]
     },
     "metadata": {},
     "output_type": "display_data"
    }
   ],
   "source": [
    "x = diff_dist\n",
    "# the histogram of the data\n",
    "n, bins, patches = plt.hist(x, 50, normed=1, facecolor=samp, alpha=0.65)\n",
    "\n",
    "plt.axis([-80, 25, 0, 0.15])\n",
    "plt.grid(True)\n",
    "plt.show()"
   ]
  },
  {
   "cell_type": "code",
   "execution_count": 38,
   "metadata": {
    "scrolled": true
   },
   "outputs": [
    {
     "data": {
      "image/png": "[encoded data removed]",
      "text/plain": [
       "<matplotlib.figure.Figure at 0xfa77470>"
      ]
     },
     "metadata": {},
     "output_type": "display_data"
    }
   ],
   "source": [
    "#plotted missing samples distribution\n",
    "fig,ax = plt.subplots(figsize=(30, 20), facecolor='w')\n",
    "for index, k in enumerate(pruned_dict.get('pruned_tree').nodes()): ## iterate over objects in tree\n",
    "    # positioning\n",
    "    y=y_pos.get(k) \n",
    "\n",
    "    if k.parent_node==None:\n",
    "        x=0.0\n",
    "        xp=-.1\n",
    "        yp = y\n",
    "    else:\n",
    "        yp = y_pos.get(k.parent_node)\n",
    "        xp=k.parent_node.distance_from_root()\n",
    "        x=k.distance_from_root()\n",
    "        \n",
    "    #distribution of missing samples\n",
    "    if true_num_unsamp.has_key(k.label):\n",
    "        dropped = true_num_unsamp.get(k.label)\n",
    "    else:\n",
    "        dropped = 0\n",
    "        \n",
    "    #expected distribution of missing data\n",
    "    edge_prb = exp[:,index] #column from expected at the index of the current edge\n",
    "    avg_exp = sum(edge_prb)/len(edge_prb) #column sum/number of samples\n",
    "    rec_area = avg_exp*5.0 #scale factor\n",
    "    leng = x-xp\n",
    "    heig = rec_area/(leng + .000001)\n",
    "\n",
    "    #color heatmapping\n",
    "    cmap2 = mpl.cm.get_cmap('RdBu')\n",
    "    percentile = stats.percentileofscore(diff_dist, sum(edge_prb)-dropped)/100.0\n",
    "        \n",
    "    if k.is_leaf(): # if leaf...\n",
    "        ax.scatter(x,y,s=s,facecolor=cmap2(percentile), edgecolor=cmap2(percentile), zorder=11) # plot circle for every tip\n",
    "        ax.scatter(x,y,s=s+0.8*s,facecolor='k', edgecolor='none', zorder=10) # plot black circle underneath\n",
    "    ax.plot([xp,xp],[y, yp],lw=heig, color=cmap2(percentile),ls=lty,zorder=9) #vertical bar plotting\n",
    "    ax.add_patch(mpl.patches.Rectangle((xp,y-.5*heig), (x-xp), heig, color = cmap2(percentile))) #predicted proportion of dropped\n",
    "    \n",
    "    #labeling - raw difference between observed and expected (expected - observed),\n",
    "    if abs(avg_exp*len(edge_prb)-dropped) > 14:\n",
    "        ax.text(x-1.0/2*(x-xp) , y+.4, str(round(avg_exp*len(edge_prb),1)-dropped), va='bottom', ha='center', size=12, color = cmap2(percentile), zorder = 20)\n",
    "\n",
    "#axis parameters\n",
    "ax.set_ylim(-5, y_ax + 5)\n",
    "ax.xaxis.set_visible(False)\n",
    "ax.yaxis.set_visible(False)\n",
    "\n",
    "#colorbar parameters\n",
    "ax1 = fig.add_axes([.15, .15, .4, 0.01], frameon = False)\n",
    "norm = mpl.colors.Normalize(vmin=min(diff_dist), vmax=max(diff_dist)) #normalize to fit range of differences (instead of 0 to 1)\n",
    "cb1 = mpl.colorbar.ColorbarBase(ax1, cmap=cmap2, norm = norm, orientation='horizontal', ticks = [int(min(diff_dist)), -70, -60, -50, -40, -30, -20, -10, 0, 10, int(max(diff_dist))])\n",
    "cb1.ax.tick_params(labelsize=14) #increase font size\n",
    "\n",
    "#fig.savefig('rate-diff.png', bbox_inches = 'tight', transparent = True)\n",
    "plt.show()"
   ]
  },
  {
   "cell_type": "code",
   "execution_count": 29,
   "metadata": {},
   "outputs": [
    {
     "data": {
      "text/plain": [
       "16.632738828920406"
      ]
     },
     "execution_count": 29,
     "metadata": {},
     "output_type": "execute_result"
    }
   ],
   "source": [
    "max(diff_dist)"
   ]
  },
  {
   "cell_type": "markdown",
   "metadata": {},
   "source": [
    "### Proportion of Tips Expected Under Each Internal Node - Remaining Tree"
   ]
  },
  {
   "cell_type": "markdown",
   "metadata": {},
   "source": [
    "Plots the cumulative proportion of samples expected under each clade and a corresponding color is mapped to this proportion. Darker colors indicate a greater proportion of data expected to fall under that clade. Only internal nodes with greater than .01 proportion of the data are labeled with their respective proportion."
   ]
  },
  {
   "cell_type": "code",
   "execution_count": null,
   "metadata": {
    "collapsed": true
   },
   "outputs": [],
   "source": [
    "node_probs2 = calculate_cumulative_node_prob(pruned_dict.get('pruned_tree'), 1)"
   ]
  },
  {
   "cell_type": "code",
   "execution_count": null,
   "metadata": {
    "collapsed": true,
    "scrolled": false
   },
   "outputs": [],
   "source": [
    "fig,ax = plt.subplots(figsize=(30,20),facecolor='w')\n",
    "\n",
    "for k in pruned_dict.get('pruned_tree').nodes(): ## iterate over objects in tree\n",
    "    \n",
    "    # positioning\n",
    "    y=y_pos.get(k) \n",
    "    if k.edge.rootedge:\n",
    "        x=0.0\n",
    "    else:\n",
    "        x=k.distance_from_root()\n",
    "    \n",
    "    txt = \"\"\n",
    "    # dropped tips, color, lty, size\n",
    "    if node_probs2.get(k) != None:\n",
    "        c = cmap((node_probs2.get(k)))\n",
    "        if node_probs2.get(k) >= .01: #only show the label if its greater than 1% expected prop data\n",
    "            txt = round(node_probs2.get(k), 2)\n",
    "    else:\n",
    "        c = cmap((node_probs2.get(k.parent_node)))\n",
    "\n",
    "    if k.is_leaf(): # if leaf...\n",
    "        ax.scatter(x,y,s=s,facecolor=c,edgecolor=c,zorder=11) # plot circle for every tip\n",
    "        ax.scatter(x,y,s=s+0.8*s,facecolor='k',edgecolor='none',zorder=10) # plot black circle underneath\n",
    "        \n",
    "    else:\n",
    "        yc1 = y_pos.get(k.child_nodes()[0])\n",
    "        yc2 = y_pos.get(k.child_nodes()[-1])\n",
    "        xc1 = k.child_nodes()[0].distance_from_root()\n",
    "        xc2 = k.child_nodes()[-1].distance_from_root()\n",
    "    \n",
    "        ax.plot([x,x],[yc1, yc2],lw=branchWidth, color=c,ls=lty,zorder=9) #vertical bar plotting\n",
    "        ax.plot([xc1,x], [yc1,yc1], lw=branchWidth, color=c, ls=lty, zorder=9) #plot top child edge\n",
    "        ax.plot([xc2,x], [yc2,yc2], lw=branchWidth, color=c, ls=lty, zorder=9) #plot bottom child edge\n",
    "    \n",
    "    #labeling\n",
    "    ax.text(x + .009, y, txt, va = 'center', ha= 'left', size=12, color = 'k', weight ='bold')\n",
    "\n",
    "ax.set_ylim(-5, y_ax + 5)\n",
    "ax.xaxis.set_visible(False)\n",
    "ax.yaxis.set_visible(False)\n",
    "#fig.savefig('cumulative-clade-prop.png', bbox_inches = 'tight', transparent = True)\n",
    "plt.show()"
   ]
  },
  {
   "cell_type": "markdown",
   "metadata": {},
   "source": [
    "### Visualizing the Tree at a Cutpoint (How a Specific Dropped Sample is Attaching)"
   ]
  },
  {
   "cell_type": "code",
   "execution_count": null,
   "metadata": {
    "collapsed": true
   },
   "outputs": [],
   "source": [
    "samp_dist = pruned_dict.get('node_root_dist_full_tree').get(pruned_dict.get('dropped_samples')[0])\n",
    "partial_pcoal = pcoal_along_edge(tree=pruned_dict.get('pruned_tree'), popsize = 1, cut_dist_from_root = samp_dist)\n"
   ]
  },
  {
   "cell_type": "code",
   "execution_count": null,
   "metadata": {
    "collapsed": true
   },
   "outputs": [],
   "source": [
    "pruned_dict.get('dropped_samples')[0]"
   ]
  },
  {
   "cell_type": "code",
   "execution_count": null,
   "metadata": {
    "collapsed": true
   },
   "outputs": [],
   "source": [
    "fig,ax = plt.subplots(figsize=(30,20),facecolor='w')\n",
    "\n",
    "for k in pruned_dict.get('pruned_tree').nodes(): ## iterate over objects in tree\n",
    "    # positioning\n",
    "    y=y_pos.get(k) \n",
    "\n",
    "    if k.parent_node==None:\n",
    "        x=0.0\n",
    "        xp=x-.1\n",
    "        yp = y_pos.get(k)\n",
    "    else:\n",
    "        yp = y_pos.get(k.parent_node)\n",
    "        xp=k.parent_node.distance_from_root()\n",
    "        x=k.distance_from_root()\n",
    "    txt = ''  \n",
    "    if partial_pcoal.get(k.edge) != None:\n",
    "        c = cmap(partial_pcoal.get(k.edge)/.0862)\n",
    "        txt = round(partial_pcoal.get(k.edge)*100.0, 2)\n",
    "    else:\n",
    "        c = cmap(partial_pcoal.get(k.parent_node.edge)/.09)\n",
    " \n",
    "    if x > samp_dist and xp > samp_dist:\n",
    "        if k.is_leaf(): # if leaf...\n",
    "            ax.scatter(x,y,s=s,facecolor='lightgrey',edgecolor='lightgrey',zorder=11) # plot circle for every tip\n",
    "            ax.scatter(x,y,s=s+0.8*s,facecolor='darkgrey',edgecolor='none',zorder=10) # plot black circle underneath\n",
    "        ax.plot([xp,xp],[y, yp],lw=branchWidth, color='lightgrey',ls=lty,zorder=9) #vertical bar plotting\n",
    "        ax.plot([xp,x], [y,y], lw=branchWidth, color='lightgrey', ls=lty, zorder=9) #branch plotting\n",
    "    elif x < samp_dist and xp < samp_dist:\n",
    "        if k.is_leaf(): # if leaf...\n",
    "            ax.scatter(x,y,s=s,facecolor=c,edgecolor=c,zorder=11) # plot circle for every tip\n",
    "            ax.scatter(x,y,s=s+0.8*s,facecolor='k',edgecolor='none',zorder=10) # plot black circle underneath\n",
    "        ax.plot([xp,xp],[y, yp],lw=branchWidth, color=c,ls=lty,zorder=9) #vertical bar plotting\n",
    "        ax.plot([xp,x], [y,y], lw=branchWidth, color=c, ls=lty, zorder=9) #branch plotting\n",
    "    else:\n",
    "        if k.is_leaf(): # if leaf...\n",
    "            ax.scatter(x,y,s=s,facecolor='lightgrey',edgecolor='lightgrey',zorder=11) # plot circle for every tip\n",
    "            ax.scatter(x,y,s=s+0.8*s,facecolor='darkgrey',edgecolor='none',zorder=10) # plot black circle underneath\n",
    "        ax.plot([xp,xp],[y, yp],lw=branchWidth, color=c,ls=lty,zorder=9) #vertical bar plotting\n",
    "        ax.plot([samp_dist,x], [y,y], lw=branchWidth, color='lightgrey', ls=lty, zorder=9) #branch plotting\n",
    "        ax.plot([xp,samp_dist], [y,y], lw=branchWidth, color=c, ls=lty, zorder=9) #branch plotting\n",
    "    \n",
    "    #labeling\n",
    "    if txt > .5: #text is already in percentages (this means the new sample has at least a .5% chance of attaching at the specified edge)\n",
    "        ax.text(x-.5*(x-xp) + .009, y, txt, va = 'bottom', ha= 'center', size=14, color = 'k', zorder=20)\n",
    "\n",
    "plt.axvline(samp_dist, c = \"lightgrey\")   \n",
    "\n",
    "ax.set_ylim(-5, y_ax + 5)\n",
    "ax.xaxis.set_visible(False)\n",
    "ax.yaxis.set_visible(False)\n",
    "\n",
    "\n",
    "#fig.savefig('time-slice.png', bbox_inches = 'tight', transparent = True)\n",
    "plt.show()"
   ]
  },
  {
   "cell_type": "code",
   "execution_count": null,
   "metadata": {
    "collapsed": true
   },
   "outputs": [],
   "source": [
    "edge_pcoal = pcoal_along_edge(tree=pruned_dict.get('pruned_tree'), popsize = 1)\n",
    "scale_fctr=.09"
   ]
  },
  {
   "cell_type": "code",
   "execution_count": null,
   "metadata": {
    "collapsed": true
   },
   "outputs": [],
   "source": [
    "fig,ax = plt.subplots(figsize=(30,20),facecolor='w')\n",
    "\n",
    "for k in pruned_dict.get('pruned_tree').nodes(): ## iterate over objects in tree\n",
    "    # positioning\n",
    "    y=y_pos.get(k) \n",
    "\n",
    "    if k.parent_node==None:\n",
    "        x=0.0\n",
    "        xp=x-.1\n",
    "        yp = y_pos.get(k)\n",
    "    else:\n",
    "        yp = y_pos.get(k.parent_node)\n",
    "        xp=k.parent_node.distance_from_root()\n",
    "        x=k.distance_from_root()\n",
    "    txt = ''  \n",
    "    if edge_pcoal.get(k.edge) != None:\n",
    "        c = cmap(edge_pcoal.get(k.edge)/scale_fctr)\n",
    "        txt = round(edge_pcoal.get(k.edge)*100.0, 2)\n",
    "    else:\n",
    "        c = cmap(edge_pcoal.get(k.parent_node.edge)/scale_fctr)\n",
    " \n",
    "\n",
    "    if k.is_leaf(): # if leaf...\n",
    "        ax.scatter(x,y,s=s,facecolor=c,edgecolor=c,zorder=11) # plot circle for every tip\n",
    "        ax.scatter(x,y,s=s+0.8*s,facecolor='k',edgecolor='none',zorder=10) # plot black circle underneath\n",
    "    ax.plot([xp,xp],[y, yp],lw=branchWidth, color=c,ls=lty,zorder=9) #vertical bar plotting\n",
    "    ax.plot([xp,x], [y,y], lw=branchWidth, color=c, ls=lty, zorder=9) #branch plotting\n",
    "   \n",
    "    #labeling\n",
    "    if txt > .5: #text is already in percentages (this means the new sample has at least a .5% chance of attaching at the specified edge)\n",
    "        ax.text(x-.5*(x-xp) + .009, y, txt, va = 'bottom', ha= 'center', size=14, color = 'k', zorder=20)\n",
    "\n",
    "ax.set_ylim(-5, y_ax + 5)\n",
    "ax.xaxis.set_visible(False)\n",
    "ax.yaxis.set_visible(False)\n",
    "\n",
    "\n",
    "#fig.savefig('edge-prb.png', bbox_inches = 'tight', transparent = True)\n",
    "plt.show()"
   ]
  },
  {
   "cell_type": "markdown",
   "metadata": {},
   "source": [
    "### Z-Scores of Pruned Tree"
   ]
  },
  {
   "cell_type": "code",
   "execution_count": null,
   "metadata": {
    "collapsed": true
   },
   "outputs": [],
   "source": [
    "zs2 = node_zscores(node_probs2, pruned_dict.get('pruned_tree'))"
   ]
  },
  {
   "cell_type": "code",
   "execution_count": null,
   "metadata": {
    "collapsed": true
   },
   "outputs": [],
   "source": [
    "fig,ax = plt.subplots(figsize=(30,20),facecolor='w')\n",
    "cmap2 = mpl.cm.get_cmap('RdBu')\n",
    "\n",
    "for k in pruned_dict.get('pruned_tree').nodes(): ## iterate over objects in tree\n",
    "    plot_lab = False\n",
    "    # positioning\n",
    "    y=y_pos.get(k) \n",
    "    if k.edge.rootedge:\n",
    "        x=0.0\n",
    "    else:\n",
    "        x=k.distance_from_root()\n",
    "\n",
    "    # tree color, label color\n",
    "    if node_probs2.get(k) != None:\n",
    "        c = cmap2(1-((zs2.get(k)+1.18)/3.51))\n",
    "        txt = round(zs2.get(k), 2)\n",
    "        if abs(round(zs2.get(k), 2)) >= 1.0:\n",
    "            plot_lab = True\n",
    "        \n",
    "        if zs2.get(k) > 0:\n",
    "            txt_c = \"k\"\n",
    "        else:\n",
    "            txt_c = 'grey'\n",
    "    else:\n",
    "        c = cmap2(1-((zs2.get(k.parent_node)+1.18)/3.51))\n",
    "        txt = \"\"\n",
    "        \n",
    "    #plotting\n",
    "    if k.is_leaf(): # if leaf...\n",
    "        ax.scatter(x,y,s=s,facecolor=c,edgecolor=c,zorder=11) # plot circle for every tip\n",
    "        ax.scatter(x,y,s=s+0.8*s,facecolor='k',edgecolor='none',zorder=10) # plot black circle underneath\n",
    "        \n",
    "    else:\n",
    "        yc1 = y_pos.get(k.child_nodes()[0])\n",
    "        yc2 = y_pos.get(k.child_nodes()[-1])\n",
    "        xc1 = k.child_nodes()[0].distance_from_root()\n",
    "        xc2 = k.child_nodes()[-1].distance_from_root()\n",
    "    \n",
    "        ax.plot([x,x],[yc1, yc2],lw=branchWidth, color=c,ls=lty,zorder=9) #vertical bar plotting\n",
    "        ax.plot([xc1,x], [yc1,yc1], lw=branchWidth, color=c, ls=lty, zorder=9) #plot top child edge\n",
    "        ax.plot([xc2,x], [yc2,yc2], lw=branchWidth, color=c, ls=lty, zorder=9) #plot bottom child edge\n",
    "    \n",
    "    #labeling\n",
    "    if plot_lab:\n",
    "        ax.text(x + .007, y, txt, va = 'center', ha= 'left', size=12, color = c)\n",
    "\n",
    "ax.set_ylim(-5, y_ax + 5)\n",
    "ax.xaxis.set_visible(False)\n",
    "ax.yaxis.set_visible(False)\n",
    "\n",
    "#fig.savefig('z-scores.png', bbox_inches = 'tight', transparent = True)\n",
    "plt.show()"
   ]
  }
 ],
 "metadata": {
  "kernelspec": {
   "display_name": "Python 2",
   "language": "python",
   "name": "python2"
  },
  "language_info": {
   "codemirror_mode": {
    "name": "ipython",
    "version": 2
   },
   "file_extension": ".py",
   "mimetype": "text/x-python",
   "name": "python",
   "nbconvert_exporter": "python",
   "pygments_lexer": "ipython2",
   "version": "2.7.13"
  }
 },
 "nbformat": 4,
 "nbformat_minor": 2
}
